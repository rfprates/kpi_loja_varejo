{
  "cells": [
    {
      "cell_type": "markdown",
      "metadata": {
        "id": "pInzololafww"
      },
      "source": [
        "# Case - Tratando dados e definindo KPIs para uma Loja de Varejo\n"
      ]
    },
    {
      "cell_type": "markdown",
      "metadata": {
        "id": "qjZJIfZQcDqu"
      },
      "source": [
        "## Introdução\n",
        "\n",
        "Uma loja de varejo deseja criar algumas métricas para acompanhar seus resultados. Para tal, ela disponibiliza de duas bases de dados: uma de vendas e outra de clientes."
      ]
    },
    {
      "cell_type": "markdown",
      "metadata": {
        "id": "SFb8SiT-cFZ9"
      },
      "source": [
        "## Objetivo do Projeto\n",
        "\n",
        "O objetivo do projeto é fazer todo o tratamento e união das bases para construção das seguintes métricas de negócio:\n",
        "* Departamentos mais vendidos;\n",
        "* Média de preço com frete por Nome de Departamento;\n",
        "* Quantidade de vendas por mês;\n",
        "* Média de renda dos clientes para cada tipo de canal de venda;\n",
        "* Média de idade de clientes por bandeira."
      ]
    },
    {
      "cell_type": "markdown",
      "metadata": {
        "id": "gf8QsEducJEA"
      },
      "source": [
        "## Premissas de negócio\n",
        "\n",
        "- Tem-se um erro de sistema: para compras sem UF, considere o estado do MS;\n",
        "- Preço não pode ser maior que o preço com frete."
      ]
    },
    {
      "cell_type": "markdown",
      "metadata": {
        "id": "yhELkyo7cjYV"
      },
      "source": [
        "## Análise dos dados:"
      ]
    },
    {
      "cell_type": "code",
      "execution_count": 34,
      "metadata": {
        "id": "zm85puHncoPc"
      },
      "outputs": [],
      "source": [
        "import pandas as pd\n",
        "import seaborn as sns"
      ]
    },
    {
      "cell_type": "code",
      "execution_count": 35,
      "metadata": {
        "id": "HrHnzAOQcr19"
      },
      "outputs": [],
      "source": [
        "vendas = pd.read_excel(\"varejo.xlsx\")"
      ]
    },
    {
      "cell_type": "code",
      "execution_count": 36,
      "metadata": {
        "colab": {
          "base_uri": "https://localhost:8080/"
        },
        "id": "K4wSg-F-c2lk",
        "outputId": "8245ae5f-8293-4499-c295-aaba86bc1b57"
      },
      "outputs": [
        {
          "data": {
            "text/html": [
              "<div>\n",
              "<style scoped>\n",
              "    .dataframe tbody tr th:only-of-type {\n",
              "        vertical-align: middle;\n",
              "    }\n",
              "\n",
              "    .dataframe tbody tr th {\n",
              "        vertical-align: top;\n",
              "    }\n",
              "\n",
              "    .dataframe thead th {\n",
              "        text-align: right;\n",
              "    }\n",
              "</style>\n",
              "<table border=\"1\" class=\"dataframe\">\n",
              "  <thead>\n",
              "    <tr style=\"text-align: right;\">\n",
              "      <th></th>\n",
              "      <th>idcompra</th>\n",
              "      <th>idcanalvenda</th>\n",
              "      <th>bandeira</th>\n",
              "      <th>Data</th>\n",
              "      <th>Preço</th>\n",
              "      <th>Preço_com_frete</th>\n",
              "      <th>Nome_Departamento</th>\n",
              "      <th>estado</th>\n",
              "      <th>cliente_Log</th>\n",
              "    </tr>\n",
              "  </thead>\n",
              "  <tbody>\n",
              "    <tr>\n",
              "      <th>0</th>\n",
              "      <td>393835</td>\n",
              "      <td>Mobile</td>\n",
              "      <td>A</td>\n",
              "      <td>2023-03-05</td>\n",
              "      <td>1582.560</td>\n",
              "      <td>791.280</td>\n",
              "      <td>Telefones e Celulares</td>\n",
              "      <td>SP</td>\n",
              "      <td>15042</td>\n",
              "    </tr>\n",
              "    <tr>\n",
              "      <th>1</th>\n",
              "      <td>411885</td>\n",
              "      <td>Mobile</td>\n",
              "      <td>A</td>\n",
              "      <td>2023-03-17</td>\n",
              "      <td>679.200</td>\n",
              "      <td>679.200</td>\n",
              "      <td>Tablets</td>\n",
              "      <td>SP</td>\n",
              "      <td>17590</td>\n",
              "    </tr>\n",
              "    <tr>\n",
              "      <th>2</th>\n",
              "      <td>437305</td>\n",
              "      <td>Mobile</td>\n",
              "      <td>A</td>\n",
              "      <td>2023-03-06</td>\n",
              "      <td>35.920</td>\n",
              "      <td>37.512</td>\n",
              "      <td>Bebes</td>\n",
              "      <td>SP</td>\n",
              "      <td>15478</td>\n",
              "    </tr>\n",
              "    <tr>\n",
              "      <th>3</th>\n",
              "      <td>440055</td>\n",
              "      <td>APP</td>\n",
              "      <td>A</td>\n",
              "      <td>2023-01-13</td>\n",
              "      <td>2239.416</td>\n",
              "      <td>2239.416</td>\n",
              "      <td>TVs e Acessorios</td>\n",
              "      <td>SP</td>\n",
              "      <td>2933</td>\n",
              "    </tr>\n",
              "    <tr>\n",
              "      <th>4</th>\n",
              "      <td>455795</td>\n",
              "      <td>Mobile</td>\n",
              "      <td>B</td>\n",
              "      <td>2023-03-31</td>\n",
              "      <td>1743.200</td>\n",
              "      <td>1785.112</td>\n",
              "      <td>Esporte e Lazer</td>\n",
              "      <td>RS</td>\n",
              "      <td>19790</td>\n",
              "    </tr>\n",
              "  </tbody>\n",
              "</table>\n",
              "</div>"
            ],
            "text/plain": [
              "   idcompra idcanalvenda bandeira       Data     Preço  Preço_com_frete  \\\n",
              "0    393835       Mobile        A 2023-03-05  1582.560          791.280   \n",
              "1    411885       Mobile        A 2023-03-17   679.200          679.200   \n",
              "2    437305       Mobile        A 2023-03-06    35.920           37.512   \n",
              "3    440055          APP        A 2023-01-13  2239.416         2239.416   \n",
              "4    455795       Mobile        B 2023-03-31  1743.200         1785.112   \n",
              "\n",
              "       Nome_Departamento estado  cliente_Log  \n",
              "0  Telefones e Celulares     SP        15042  \n",
              "1                Tablets     SP        17590  \n",
              "2                  Bebes     SP        15478  \n",
              "3       TVs e Acessorios     SP         2933  \n",
              "4        Esporte e Lazer     RS        19790  "
            ]
          },
          "execution_count": 36,
          "metadata": {},
          "output_type": "execute_result"
        }
      ],
      "source": [
        "vendas.head()"
      ]
    },
    {
      "cell_type": "code",
      "execution_count": 37,
      "metadata": {
        "colab": {
          "base_uri": "https://localhost:8080/"
        },
        "id": "sCdMXymEc8Mz",
        "outputId": "8f1681f0-4cdd-48f4-e817-35fe74a9f522"
      },
      "outputs": [
        {
          "name": "stdout",
          "output_type": "stream",
          "text": [
            "<class 'pandas.core.frame.DataFrame'>\n",
            "RangeIndex: 80228 entries, 0 to 80227\n",
            "Data columns (total 9 columns):\n",
            " #   Column             Non-Null Count  Dtype         \n",
            "---  ------             --------------  -----         \n",
            " 0   idcompra           80228 non-null  int64         \n",
            " 1   idcanalvenda       80228 non-null  object        \n",
            " 2   bandeira           80228 non-null  object        \n",
            " 3   Data               80228 non-null  datetime64[ns]\n",
            " 4   Preço              79926 non-null  float64       \n",
            " 5   Preço_com_frete    80228 non-null  float64       \n",
            " 6   Nome_Departamento  80228 non-null  object        \n",
            " 7   estado             79926 non-null  object        \n",
            " 8   cliente_Log        80228 non-null  int64         \n",
            "dtypes: datetime64[ns](1), float64(2), int64(2), object(4)\n",
            "memory usage: 5.5+ MB\n"
          ]
        }
      ],
      "source": [
        "vendas.info()"
      ]
    },
    {
      "cell_type": "markdown",
      "metadata": {
        "id": "v3bjRNWad0Mn"
      },
      "source": [
        "Analisando a distribuição dos dados da coluna 'idcanalvenda',"
      ]
    },
    {
      "cell_type": "code",
      "execution_count": 38,
      "metadata": {
        "colab": {
          "base_uri": "https://localhost:8080/"
        },
        "id": "_Tx4F1icdOLU",
        "outputId": "558ac0d1-08b7-4f67-e9af-7b641c2809f7"
      },
      "outputs": [
        {
          "data": {
            "text/plain": [
              "idcanalvenda\n",
              "Mobile        28087\n",
              "Internet      27907\n",
              "Aplicativo    24095\n",
              "APP             139\n",
              "Name: count, dtype: int64"
            ]
          },
          "execution_count": 38,
          "metadata": {},
          "output_type": "execute_result"
        }
      ],
      "source": [
        "vendas['idcanalvenda'].value_counts()"
      ]
    },
    {
      "cell_type": "markdown",
      "metadata": {
        "id": "JEyCvZpod8q-"
      },
      "source": [
        "Percebe-se que temos dados 'APP' e 'Aplicativo'. Como se referem a mesma coisa, é de boa prática unir estes dados em um só. Para tal, vamos substituir os dados 'APP' por Aplicativo,"
      ]
    },
    {
      "cell_type": "code",
      "execution_count": 39,
      "metadata": {
        "id": "E9s4wvHjdwEl"
      },
      "outputs": [],
      "source": [
        "vendas['idcanalvenda'] = vendas['idcanalvenda'].str.replace('APP', 'Aplicativo')"
      ]
    },
    {
      "cell_type": "code",
      "execution_count": 40,
      "metadata": {
        "colab": {
          "base_uri": "https://localhost:8080/"
        },
        "id": "WqIHfzKTeq_Z",
        "outputId": "36421f41-6465-4bd6-ced2-4fd708fc7ddb"
      },
      "outputs": [
        {
          "data": {
            "text/plain": [
              "idcanalvenda\n",
              "Mobile        28087\n",
              "Internet      27907\n",
              "Aplicativo    24234\n",
              "Name: count, dtype: int64"
            ]
          },
          "execution_count": 40,
          "metadata": {},
          "output_type": "execute_result"
        }
      ],
      "source": [
        "vendas['idcanalvenda'].value_counts()"
      ]
    },
    {
      "cell_type": "markdown",
      "metadata": {
        "id": "k9UcSp6Nev11"
      },
      "source": [
        "Portanto, agora a coluna 'Aplicativo' englobou os dados que anteriormente eram 'APP'."
      ]
    },
    {
      "cell_type": "markdown",
      "metadata": {
        "id": "C1xv9IXffJF5"
      },
      "source": [
        "Verificando agora a coluna 'bandeira',"
      ]
    },
    {
      "cell_type": "code",
      "execution_count": 41,
      "metadata": {
        "colab": {
          "base_uri": "https://localhost:8080/"
        },
        "id": "XQlraXDweu1Y",
        "outputId": "72ea8617-beba-4994-a6a6-f7b3f9ee24f3"
      },
      "outputs": [
        {
          "data": {
            "text/plain": [
              "bandeira\n",
              "B    48048\n",
              "A    32180\n",
              "Name: count, dtype: int64"
            ]
          },
          "execution_count": 41,
          "metadata": {},
          "output_type": "execute_result"
        }
      ],
      "source": [
        "vendas['bandeira'].value_counts()"
      ]
    },
    {
      "cell_type": "markdown",
      "metadata": {
        "id": "YLjwONVBfXUK"
      },
      "source": [
        "Para a coluna 'Nome_Departamento',"
      ]
    },
    {
      "cell_type": "code",
      "execution_count": 42,
      "metadata": {
        "colab": {
          "base_uri": "https://localhost:8080/"
        },
        "id": "K87_jYmUfPuW",
        "outputId": "7d1ffe21-3382-4bad-94ce-6222dc90b801"
      },
      "outputs": [
        {
          "data": {
            "text/plain": [
              "Nome_Departamento\n",
              "Telefones e Celulares     15589\n",
              "Eletrodomesticos          11058\n",
              "Eletroportateis           10100\n",
              "TVs e Acessorios           5496\n",
              "Informatica                5438\n",
              "Beleza e Saude             4733\n",
              "Bebes                      4630\n",
              "Moveis                     4276\n",
              "Utilidades Domesticas      3791\n",
              "Acessorios e Inovacoes     3623\n",
              "Audio                      1808\n",
              "Tablets                    1784\n",
              "Brinquedos                 1327\n",
              "Ferramentas                1121\n",
              "Ar e Ventilacao             956\n",
              "Automotivo                  904\n",
              "Games                       769\n",
              "Produtos de Limpeza         718\n",
              "Perfumaria                  625\n",
              "Esporte e Lazer             532\n",
              "Casa e Construcao           264\n",
              "Cama, Mesa e Banho          153\n",
              "Decoracao                   134\n",
              "Relogios                    134\n",
              "Malas e Mochilas            114\n",
              "Linha Industrial             86\n",
              "Pet Shop                     43\n",
              "Cine e Foto                  11\n",
              "TV e Video                    5\n",
              "Moda                          3\n",
              "Alimentos                     2\n",
              "Instrumentos Musicais         1\n",
              "Name: count, dtype: int64"
            ]
          },
          "execution_count": 42,
          "metadata": {},
          "output_type": "execute_result"
        }
      ],
      "source": [
        "vendas['Nome_Departamento'].value_counts()"
      ]
    },
    {
      "cell_type": "markdown",
      "metadata": {
        "id": "hUetXosNfnd6"
      },
      "source": [
        "De boa prática, é aconselhável substituir os espaços \" \" em uma string por underline \"_\" . Vamos fazer isso para esta coluna acima,"
      ]
    },
    {
      "cell_type": "code",
      "execution_count": 43,
      "metadata": {
        "id": "73_O5lyrffqd"
      },
      "outputs": [],
      "source": [
        "vendas['Nome_Departamento'] = vendas['Nome_Departamento'].str.replace(\" \", \"_\")"
      ]
    },
    {
      "cell_type": "code",
      "execution_count": 44,
      "metadata": {
        "colab": {
          "base_uri": "https://localhost:8080/"
        },
        "id": "YOwOfqErhQfm",
        "outputId": "0b116247-655d-4b65-fb46-5ce45ebca1e8"
      },
      "outputs": [
        {
          "data": {
            "text/plain": [
              "Nome_Departamento\n",
              "Telefones_e_Celulares     15589\n",
              "Eletrodomesticos          11058\n",
              "Eletroportateis           10100\n",
              "TVs_e_Acessorios           5496\n",
              "Informatica                5438\n",
              "Beleza_e_Saude             4733\n",
              "Bebes                      4630\n",
              "Moveis                     4276\n",
              "Utilidades_Domesticas      3791\n",
              "Acessorios_e_Inovacoes     3623\n",
              "Audio                      1808\n",
              "Tablets                    1784\n",
              "Brinquedos                 1327\n",
              "Ferramentas                1121\n",
              "Ar_e_Ventilacao             956\n",
              "Automotivo                  904\n",
              "Games                       769\n",
              "Produtos_de_Limpeza         718\n",
              "Perfumaria                  625\n",
              "Esporte_e_Lazer             532\n",
              "Casa_e_Construcao           264\n",
              "Cama,_Mesa_e_Banho          153\n",
              "Decoracao                   134\n",
              "Relogios                    134\n",
              "Malas_e_Mochilas            114\n",
              "Linha_Industrial             86\n",
              "Pet_Shop                     43\n",
              "Cine_e_Foto                  11\n",
              "TV_e_Video                    5\n",
              "Moda                          3\n",
              "Alimentos                     2\n",
              "Instrumentos_Musicais         1\n",
              "Name: count, dtype: int64"
            ]
          },
          "execution_count": 44,
          "metadata": {},
          "output_type": "execute_result"
        }
      ],
      "source": [
        "vendas['Nome_Departamento'].value_counts()"
      ]
    },
    {
      "cell_type": "markdown",
      "metadata": {
        "id": "Uuq-W97MhsX7"
      },
      "source": [
        "### Tratamento dos dados nulos"
      ]
    },
    {
      "cell_type": "code",
      "execution_count": 45,
      "metadata": {
        "colab": {
          "base_uri": "https://localhost:8080/"
        },
        "id": "0tLsDc3YhTre",
        "outputId": "bde2418d-5d9e-4d2e-e9e4-aa9a49512ce5"
      },
      "outputs": [
        {
          "name": "stdout",
          "output_type": "stream",
          "text": [
            "<class 'pandas.core.frame.DataFrame'>\n",
            "RangeIndex: 80228 entries, 0 to 80227\n",
            "Data columns (total 9 columns):\n",
            " #   Column             Non-Null Count  Dtype         \n",
            "---  ------             --------------  -----         \n",
            " 0   idcompra           80228 non-null  int64         \n",
            " 1   idcanalvenda       80228 non-null  object        \n",
            " 2   bandeira           80228 non-null  object        \n",
            " 3   Data               80228 non-null  datetime64[ns]\n",
            " 4   Preço              79926 non-null  float64       \n",
            " 5   Preço_com_frete    80228 non-null  float64       \n",
            " 6   Nome_Departamento  80228 non-null  object        \n",
            " 7   estado             79926 non-null  object        \n",
            " 8   cliente_Log        80228 non-null  int64         \n",
            "dtypes: datetime64[ns](1), float64(2), int64(2), object(4)\n",
            "memory usage: 5.5+ MB\n"
          ]
        }
      ],
      "source": [
        "vendas.info()"
      ]
    },
    {
      "cell_type": "markdown",
      "metadata": {
        "id": "lDnuDWVih3_m"
      },
      "source": [
        "Percebe-se que nas colunas 'Preço' e 'estado' não temos todas as entradas preenchidas com dados não nulos."
      ]
    },
    {
      "cell_type": "markdown",
      "metadata": {
        "id": "rysBa3VJiW8H"
      },
      "source": [
        "Caso quiséssemos eliminar as linhas com dados nulos,"
      ]
    },
    {
      "cell_type": "code",
      "execution_count": 46,
      "metadata": {
        "id": "a3B8Q6fFh3FO"
      },
      "outputs": [],
      "source": [
        "vendas_sem_nulos = vendas.dropna()"
      ]
    },
    {
      "cell_type": "code",
      "execution_count": 47,
      "metadata": {
        "colab": {
          "base_uri": "https://localhost:8080/"
        },
        "id": "LlJIkKqvihFH",
        "outputId": "132b2f5d-edf7-404b-f3bd-daf0a39dfa23"
      },
      "outputs": [
        {
          "name": "stdout",
          "output_type": "stream",
          "text": [
            "<class 'pandas.core.frame.DataFrame'>\n",
            "Index: 79926 entries, 0 to 80227\n",
            "Data columns (total 9 columns):\n",
            " #   Column             Non-Null Count  Dtype         \n",
            "---  ------             --------------  -----         \n",
            " 0   idcompra           79926 non-null  int64         \n",
            " 1   idcanalvenda       79926 non-null  object        \n",
            " 2   bandeira           79926 non-null  object        \n",
            " 3   Data               79926 non-null  datetime64[ns]\n",
            " 4   Preço              79926 non-null  float64       \n",
            " 5   Preço_com_frete    79926 non-null  float64       \n",
            " 6   Nome_Departamento  79926 non-null  object        \n",
            " 7   estado             79926 non-null  object        \n",
            " 8   cliente_Log        79926 non-null  int64         \n",
            "dtypes: datetime64[ns](1), float64(2), int64(2), object(4)\n",
            "memory usage: 6.1+ MB\n"
          ]
        }
      ],
      "source": [
        "vendas_sem_nulos.info()"
      ]
    },
    {
      "cell_type": "markdown",
      "metadata": {
        "id": "7TuiK_Pwix6C"
      },
      "source": [
        "Sabendo a nossa premissa de negócio, vamos substituir os dados nulos da coluna 'estado' por MS."
      ]
    },
    {
      "cell_type": "code",
      "execution_count": 48,
      "metadata": {
        "id": "wt7GYMSpii53"
      },
      "outputs": [],
      "source": [
        "vendas['estado'] = vendas['estado'].fillna('MS')"
      ]
    },
    {
      "cell_type": "code",
      "execution_count": 49,
      "metadata": {
        "colab": {
          "base_uri": "https://localhost:8080/"
        },
        "id": "g_xDstvYjC0H",
        "outputId": "c374981c-3b6c-454e-83d7-994dfc9ff844"
      },
      "outputs": [
        {
          "name": "stdout",
          "output_type": "stream",
          "text": [
            "<class 'pandas.core.frame.DataFrame'>\n",
            "RangeIndex: 80228 entries, 0 to 80227\n",
            "Data columns (total 9 columns):\n",
            " #   Column             Non-Null Count  Dtype         \n",
            "---  ------             --------------  -----         \n",
            " 0   idcompra           80228 non-null  int64         \n",
            " 1   idcanalvenda       80228 non-null  object        \n",
            " 2   bandeira           80228 non-null  object        \n",
            " 3   Data               80228 non-null  datetime64[ns]\n",
            " 4   Preço              79926 non-null  float64       \n",
            " 5   Preço_com_frete    80228 non-null  float64       \n",
            " 6   Nome_Departamento  80228 non-null  object        \n",
            " 7   estado             80228 non-null  object        \n",
            " 8   cliente_Log        80228 non-null  int64         \n",
            "dtypes: datetime64[ns](1), float64(2), int64(2), object(4)\n",
            "memory usage: 5.5+ MB\n"
          ]
        }
      ],
      "source": [
        "vendas.info()"
      ]
    },
    {
      "cell_type": "markdown",
      "metadata": {
        "id": "OrQSKZ_hjkDv"
      },
      "source": [
        "Caso quiséssemos substituir os dados nulos da coluna 'Preço' pela média dos preços, podemos fazer da seguinte forma:"
      ]
    },
    {
      "cell_type": "code",
      "execution_count": 50,
      "metadata": {
        "id": "kmB0QjVvjE7W"
      },
      "outputs": [],
      "source": [
        "media_preco = vendas['Preço'].mean()"
      ]
    },
    {
      "cell_type": "code",
      "execution_count": 51,
      "metadata": {
        "id": "XGIQF_SVjzN_"
      },
      "outputs": [],
      "source": [
        "vendas['Preço'].fillna(media_preco, inplace = True)"
      ]
    },
    {
      "cell_type": "code",
      "execution_count": 52,
      "metadata": {
        "colab": {
          "base_uri": "https://localhost:8080/"
        },
        "id": "oCSowEGdkEem",
        "outputId": "39b1192f-26b1-4018-9fe0-9c2e20ef3709"
      },
      "outputs": [
        {
          "name": "stdout",
          "output_type": "stream",
          "text": [
            "<class 'pandas.core.frame.DataFrame'>\n",
            "RangeIndex: 80228 entries, 0 to 80227\n",
            "Data columns (total 9 columns):\n",
            " #   Column             Non-Null Count  Dtype         \n",
            "---  ------             --------------  -----         \n",
            " 0   idcompra           80228 non-null  int64         \n",
            " 1   idcanalvenda       80228 non-null  object        \n",
            " 2   bandeira           80228 non-null  object        \n",
            " 3   Data               80228 non-null  datetime64[ns]\n",
            " 4   Preço              80228 non-null  float64       \n",
            " 5   Preço_com_frete    80228 non-null  float64       \n",
            " 6   Nome_Departamento  80228 non-null  object        \n",
            " 7   estado             80228 non-null  object        \n",
            " 8   cliente_Log        80228 non-null  int64         \n",
            "dtypes: datetime64[ns](1), float64(2), int64(2), object(4)\n",
            "memory usage: 5.5+ MB\n"
          ]
        }
      ],
      "source": [
        "vendas.info()"
      ]
    },
    {
      "cell_type": "markdown",
      "metadata": {
        "id": "PQiFMPElkKfF"
      },
      "source": [
        "Agora não temos mais dados nulos em nossa base."
      ]
    },
    {
      "cell_type": "markdown",
      "metadata": {
        "id": "MRgNZbj3knkZ"
      },
      "source": [
        "### Filtrando os dados"
      ]
    },
    {
      "cell_type": "code",
      "execution_count": 53,
      "metadata": {
        "colab": {
          "base_uri": "https://localhost:8080/"
        },
        "id": "1iwNQhy3kFuv",
        "outputId": "53fceec5-6227-4bb7-e749-cdb07b5a9397"
      },
      "outputs": [
        {
          "data": {
            "text/html": [
              "<div>\n",
              "<style scoped>\n",
              "    .dataframe tbody tr th:only-of-type {\n",
              "        vertical-align: middle;\n",
              "    }\n",
              "\n",
              "    .dataframe tbody tr th {\n",
              "        vertical-align: top;\n",
              "    }\n",
              "\n",
              "    .dataframe thead th {\n",
              "        text-align: right;\n",
              "    }\n",
              "</style>\n",
              "<table border=\"1\" class=\"dataframe\">\n",
              "  <thead>\n",
              "    <tr style=\"text-align: right;\">\n",
              "      <th></th>\n",
              "      <th>Preço</th>\n",
              "      <th>Preço_com_frete</th>\n",
              "    </tr>\n",
              "  </thead>\n",
              "  <tbody>\n",
              "    <tr>\n",
              "      <th>count</th>\n",
              "      <td>80228.000000</td>\n",
              "      <td>80228.000000</td>\n",
              "    </tr>\n",
              "    <tr>\n",
              "      <th>mean</th>\n",
              "      <td>906.589129</td>\n",
              "      <td>908.619823</td>\n",
              "    </tr>\n",
              "    <tr>\n",
              "      <th>std</th>\n",
              "      <td>1057.611490</td>\n",
              "      <td>1057.583101</td>\n",
              "    </tr>\n",
              "    <tr>\n",
              "      <th>min</th>\n",
              "      <td>6.320000</td>\n",
              "      <td>6.320000</td>\n",
              "    </tr>\n",
              "    <tr>\n",
              "      <th>25%</th>\n",
              "      <td>147.920000</td>\n",
              "      <td>150.706000</td>\n",
              "    </tr>\n",
              "    <tr>\n",
              "      <th>50%</th>\n",
              "      <td>532.448000</td>\n",
              "      <td>535.120000</td>\n",
              "    </tr>\n",
              "    <tr>\n",
              "      <th>75%</th>\n",
              "      <td>1199.200000</td>\n",
              "      <td>1215.240000</td>\n",
              "    </tr>\n",
              "    <tr>\n",
              "      <th>max</th>\n",
              "      <td>14439.240000</td>\n",
              "      <td>14439.240000</td>\n",
              "    </tr>\n",
              "  </tbody>\n",
              "</table>\n",
              "</div>"
            ],
            "text/plain": [
              "              Preço  Preço_com_frete\n",
              "count  80228.000000     80228.000000\n",
              "mean     906.589129       908.619823\n",
              "std     1057.611490      1057.583101\n",
              "min        6.320000         6.320000\n",
              "25%      147.920000       150.706000\n",
              "50%      532.448000       535.120000\n",
              "75%     1199.200000      1215.240000\n",
              "max    14439.240000     14439.240000"
            ]
          },
          "execution_count": 53,
          "metadata": {},
          "output_type": "execute_result"
        }
      ],
      "source": [
        "vendas[['Preço', 'Preço_com_frete']].describe()"
      ]
    },
    {
      "cell_type": "markdown",
      "metadata": {
        "id": "J35VyIRZlr8M"
      },
      "source": [
        "Sabendo a nossa segunda premissa de negócio que diz que o preço não pode ser maior que o preço com frete, vamos eliminar as linhas da base de dados onde isto não ocorre."
      ]
    },
    {
      "cell_type": "code",
      "execution_count": 54,
      "metadata": {
        "id": "C1pghvfOk6Bo"
      },
      "outputs": [],
      "source": [
        "vendas_errado = vendas[((vendas['Preço']) > (vendas['Preço_com_frete']))]"
      ]
    },
    {
      "cell_type": "code",
      "execution_count": 55,
      "metadata": {
        "id": "s2g48CZZmRFU"
      },
      "outputs": [],
      "source": [
        "vendas_correto = vendas[((vendas['Preço']) < (vendas['Preço_com_frete']))]"
      ]
    },
    {
      "cell_type": "markdown",
      "metadata": {
        "id": "702UZGFomlx4"
      },
      "source": [
        "Assim, a nossa base principal de dados vai ser agora a 'vendas_correto' pois garantimos que ali só existem dados em que o preço é menor que o preço com frete."
      ]
    },
    {
      "cell_type": "code",
      "execution_count": 56,
      "metadata": {
        "colab": {
          "base_uri": "https://localhost:8080/"
        },
        "id": "VeCr0HtHmesi",
        "outputId": "b4852390-cb29-41e2-d2e5-888c9234695b"
      },
      "outputs": [
        {
          "data": {
            "text/html": [
              "<div>\n",
              "<style scoped>\n",
              "    .dataframe tbody tr th:only-of-type {\n",
              "        vertical-align: middle;\n",
              "    }\n",
              "\n",
              "    .dataframe tbody tr th {\n",
              "        vertical-align: top;\n",
              "    }\n",
              "\n",
              "    .dataframe thead th {\n",
              "        text-align: right;\n",
              "    }\n",
              "</style>\n",
              "<table border=\"1\" class=\"dataframe\">\n",
              "  <thead>\n",
              "    <tr style=\"text-align: right;\">\n",
              "      <th></th>\n",
              "      <th>idcompra</th>\n",
              "      <th>idcanalvenda</th>\n",
              "      <th>bandeira</th>\n",
              "      <th>Data</th>\n",
              "      <th>Preço</th>\n",
              "      <th>Preço_com_frete</th>\n",
              "      <th>Nome_Departamento</th>\n",
              "      <th>estado</th>\n",
              "      <th>cliente_Log</th>\n",
              "    </tr>\n",
              "  </thead>\n",
              "  <tbody>\n",
              "    <tr>\n",
              "      <th>2</th>\n",
              "      <td>437305</td>\n",
              "      <td>Mobile</td>\n",
              "      <td>A</td>\n",
              "      <td>2023-03-06</td>\n",
              "      <td>35.92</td>\n",
              "      <td>37.512</td>\n",
              "      <td>Bebes</td>\n",
              "      <td>SP</td>\n",
              "      <td>15478</td>\n",
              "    </tr>\n",
              "    <tr>\n",
              "      <th>4</th>\n",
              "      <td>455795</td>\n",
              "      <td>Mobile</td>\n",
              "      <td>B</td>\n",
              "      <td>2023-03-31</td>\n",
              "      <td>1743.20</td>\n",
              "      <td>1785.112</td>\n",
              "      <td>Esporte_e_Lazer</td>\n",
              "      <td>RS</td>\n",
              "      <td>19790</td>\n",
              "    </tr>\n",
              "    <tr>\n",
              "      <th>8</th>\n",
              "      <td>75525</td>\n",
              "      <td>Mobile</td>\n",
              "      <td>B</td>\n",
              "      <td>2023-02-19</td>\n",
              "      <td>679.20</td>\n",
              "      <td>695.120</td>\n",
              "      <td>Moveis</td>\n",
              "      <td>SP</td>\n",
              "      <td>3442</td>\n",
              "    </tr>\n",
              "    <tr>\n",
              "      <th>19</th>\n",
              "      <td>258580</td>\n",
              "      <td>Mobile</td>\n",
              "      <td>A</td>\n",
              "      <td>2023-03-27</td>\n",
              "      <td>107.76</td>\n",
              "      <td>109.344</td>\n",
              "      <td>Bebes</td>\n",
              "      <td>ES</td>\n",
              "      <td>7662</td>\n",
              "    </tr>\n",
              "    <tr>\n",
              "      <th>22</th>\n",
              "      <td>306675</td>\n",
              "      <td>Mobile</td>\n",
              "      <td>B</td>\n",
              "      <td>2023-02-17</td>\n",
              "      <td>471.20</td>\n",
              "      <td>511.120</td>\n",
              "      <td>Eletrodomesticos</td>\n",
              "      <td>RJ</td>\n",
              "      <td>15060</td>\n",
              "    </tr>\n",
              "  </tbody>\n",
              "</table>\n",
              "</div>"
            ],
            "text/plain": [
              "    idcompra idcanalvenda bandeira       Data    Preço  Preço_com_frete  \\\n",
              "2     437305       Mobile        A 2023-03-06    35.92           37.512   \n",
              "4     455795       Mobile        B 2023-03-31  1743.20         1785.112   \n",
              "8      75525       Mobile        B 2023-02-19   679.20          695.120   \n",
              "19    258580       Mobile        A 2023-03-27   107.76          109.344   \n",
              "22    306675       Mobile        B 2023-02-17   471.20          511.120   \n",
              "\n",
              "   Nome_Departamento estado  cliente_Log  \n",
              "2              Bebes     SP        15478  \n",
              "4    Esporte_e_Lazer     RS        19790  \n",
              "8             Moveis     SP         3442  \n",
              "19             Bebes     ES         7662  \n",
              "22  Eletrodomesticos     RJ        15060  "
            ]
          },
          "execution_count": 56,
          "metadata": {},
          "output_type": "execute_result"
        }
      ],
      "source": [
        "vendas_correto.head()"
      ]
    },
    {
      "cell_type": "code",
      "execution_count": 57,
      "metadata": {
        "colab": {
          "base_uri": "https://localhost:8080/"
        },
        "id": "2SQjNeadm3wZ",
        "outputId": "988b5867-8f5c-4a92-d160-8688f92e0884"
      },
      "outputs": [
        {
          "data": {
            "text/html": [
              "<div>\n",
              "<style scoped>\n",
              "    .dataframe tbody tr th:only-of-type {\n",
              "        vertical-align: middle;\n",
              "    }\n",
              "\n",
              "    .dataframe tbody tr th {\n",
              "        vertical-align: top;\n",
              "    }\n",
              "\n",
              "    .dataframe thead th {\n",
              "        text-align: right;\n",
              "    }\n",
              "</style>\n",
              "<table border=\"1\" class=\"dataframe\">\n",
              "  <thead>\n",
              "    <tr style=\"text-align: right;\">\n",
              "      <th></th>\n",
              "      <th>Preço</th>\n",
              "      <th>Preço_com_frete</th>\n",
              "    </tr>\n",
              "  </thead>\n",
              "  <tbody>\n",
              "    <tr>\n",
              "      <th>count</th>\n",
              "      <td>22047.000000</td>\n",
              "      <td>22047.000000</td>\n",
              "    </tr>\n",
              "    <tr>\n",
              "      <th>mean</th>\n",
              "      <td>549.518401</td>\n",
              "      <td>567.332688</td>\n",
              "    </tr>\n",
              "    <tr>\n",
              "      <th>std</th>\n",
              "      <td>846.295127</td>\n",
              "      <td>863.458763</td>\n",
              "    </tr>\n",
              "    <tr>\n",
              "      <th>min</th>\n",
              "      <td>8.720000</td>\n",
              "      <td>9.512000</td>\n",
              "    </tr>\n",
              "    <tr>\n",
              "      <th>25%</th>\n",
              "      <td>93.528000</td>\n",
              "      <td>100.800000</td>\n",
              "    </tr>\n",
              "    <tr>\n",
              "      <th>50%</th>\n",
              "      <td>183.200000</td>\n",
              "      <td>193.912000</td>\n",
              "    </tr>\n",
              "    <tr>\n",
              "      <th>75%</th>\n",
              "      <td>661.680000</td>\n",
              "      <td>676.736000</td>\n",
              "    </tr>\n",
              "    <tr>\n",
              "      <th>max</th>\n",
              "      <td>14391.200000</td>\n",
              "      <td>14407.120000</td>\n",
              "    </tr>\n",
              "  </tbody>\n",
              "</table>\n",
              "</div>"
            ],
            "text/plain": [
              "              Preço  Preço_com_frete\n",
              "count  22047.000000     22047.000000\n",
              "mean     549.518401       567.332688\n",
              "std      846.295127       863.458763\n",
              "min        8.720000         9.512000\n",
              "25%       93.528000       100.800000\n",
              "50%      183.200000       193.912000\n",
              "75%      661.680000       676.736000\n",
              "max    14391.200000     14407.120000"
            ]
          },
          "execution_count": 57,
          "metadata": {},
          "output_type": "execute_result"
        }
      ],
      "source": [
        "vendas_correto[['Preço', 'Preço_com_frete']].describe()"
      ]
    },
    {
      "cell_type": "markdown",
      "metadata": {
        "id": "3aR27jYJnKMp"
      },
      "source": [
        "Percebe-se que, o que antes era uma base de 80228 entradas, passa a ser uma nova base de dados corretos com 22047 entradas. Logo, tínhamos muitos dados errados."
      ]
    },
    {
      "cell_type": "markdown",
      "metadata": {
        "id": "ohHm768-pR5f"
      },
      "source": [
        "## Elaborando as métricas:"
      ]
    },
    {
      "cell_type": "markdown",
      "metadata": {
        "id": "F6vX-2mFoEqz"
      },
      "source": [
        "### Departamentos mais vendidos"
      ]
    },
    {
      "cell_type": "markdown",
      "metadata": {
        "id": "L2tfMFdioY1J"
      },
      "source": [
        "Para saber quais os departamentos que mais vendem, vamos acessar a quantidade com que cada um aparece em nossa base correta, ordenando os valores da maior para a menor quantidade."
      ]
    },
    {
      "cell_type": "code",
      "execution_count": 58,
      "metadata": {
        "colab": {
          "base_uri": "https://localhost:8080/"
        },
        "id": "ghz4sm1Zm_G7",
        "outputId": "1417f777-2f8a-4b5b-9007-1458917c044a"
      },
      "outputs": [
        {
          "data": {
            "text/plain": [
              "Nome_Departamento\n",
              "Bebes                     4448\n",
              "Eletrodomesticos          4274\n",
              "Eletroportateis           2249\n",
              "Moveis                    2053\n",
              "Utilidades_Domesticas     1379\n",
              "Acessorios_e_Inovacoes    1251\n",
              "Beleza_e_Saude            1059\n",
              "Brinquedos                 686\n",
              "Perfumaria                 563\n",
              "Produtos_de_Limpeza        522\n",
              "Telefones_e_Celulares      495\n",
              "Automotivo                 459\n",
              "Esporte_e_Lazer            447\n",
              "Audio                      374\n",
              "Ar_e_Ventilacao            339\n",
              "Ferramentas                288\n",
              "Informatica                284\n",
              "Games                      200\n",
              "TVs_e_Acessorios           158\n",
              "Decoracao                  127\n",
              "Malas_e_Mochilas            91\n",
              "Cama,_Mesa_e_Banho          71\n",
              "Tablets                     64\n",
              "Casa_e_Construcao           58\n",
              "Relogios                    45\n",
              "Pet_Shop                    40\n",
              "Linha_Industrial             9\n",
              "Cine_e_Foto                  8\n",
              "Moda                         3\n",
              "Alimentos                    2\n",
              "Instrumentos_Musicais        1\n",
              "Name: count, dtype: int64"
            ]
          },
          "execution_count": 58,
          "metadata": {},
          "output_type": "execute_result"
        }
      ],
      "source": [
        "vendas_correto['Nome_Departamento'].value_counts().sort_values(ascending = False)"
      ]
    },
    {
      "cell_type": "markdown",
      "metadata": {
        "id": "UabIb1cko169"
      },
      "source": [
        "Portanto, o top3 departamentos com mais itens vendidos são:\n",
        "* Bebe = 4448 itens;\n",
        "* Eletrodométiscos = 4274 itens;\n",
        "* Eletroportáteis = 2249 itens."
      ]
    },
    {
      "cell_type": "markdown",
      "metadata": {
        "id": "_OqgaaErpJ0d"
      },
      "source": [
        "### Média de preço com frete por nome de departamento"
      ]
    },
    {
      "cell_type": "markdown",
      "metadata": {
        "id": "B2FN6iCKpt0N"
      },
      "source": [
        "Para calcular esta métrica, vamos agrupar a média do preço com frete por cada departamento. Vamos ordenar o resultado do maior para o menor."
      ]
    },
    {
      "cell_type": "code",
      "execution_count": 59,
      "metadata": {
        "colab": {
          "base_uri": "https://localhost:8080/"
        },
        "id": "JxIP2_kWoRrR",
        "outputId": "036fc6e5-4df2-4870-a0d0-6bd3403b683f"
      },
      "outputs": [
        {
          "data": {
            "text/html": [
              "<div>\n",
              "<style scoped>\n",
              "    .dataframe tbody tr th:only-of-type {\n",
              "        vertical-align: middle;\n",
              "    }\n",
              "\n",
              "    .dataframe tbody tr th {\n",
              "        vertical-align: top;\n",
              "    }\n",
              "\n",
              "    .dataframe thead th {\n",
              "        text-align: right;\n",
              "    }\n",
              "</style>\n",
              "<table border=\"1\" class=\"dataframe\">\n",
              "  <thead>\n",
              "    <tr style=\"text-align: right;\">\n",
              "      <th></th>\n",
              "      <th>Nome_Departamento</th>\n",
              "      <th>Preço_com_frete</th>\n",
              "    </tr>\n",
              "  </thead>\n",
              "  <tbody>\n",
              "    <tr>\n",
              "      <th>0</th>\n",
              "      <td>TVs_e_Acessorios</td>\n",
              "      <td>3469.378177</td>\n",
              "    </tr>\n",
              "    <tr>\n",
              "      <th>1</th>\n",
              "      <td>Informatica</td>\n",
              "      <td>2159.782620</td>\n",
              "    </tr>\n",
              "    <tr>\n",
              "      <th>2</th>\n",
              "      <td>Linha_Industrial</td>\n",
              "      <td>2027.106667</td>\n",
              "    </tr>\n",
              "    <tr>\n",
              "      <th>3</th>\n",
              "      <td>Cine_e_Foto</td>\n",
              "      <td>1851.198000</td>\n",
              "    </tr>\n",
              "    <tr>\n",
              "      <th>4</th>\n",
              "      <td>Telefones_e_Celulares</td>\n",
              "      <td>1442.185907</td>\n",
              "    </tr>\n",
              "    <tr>\n",
              "      <th>5</th>\n",
              "      <td>Eletrodomesticos</td>\n",
              "      <td>1400.662596</td>\n",
              "    </tr>\n",
              "    <tr>\n",
              "      <th>6</th>\n",
              "      <td>Esporte_e_Lazer</td>\n",
              "      <td>1123.139383</td>\n",
              "    </tr>\n",
              "    <tr>\n",
              "      <th>7</th>\n",
              "      <td>Tablets</td>\n",
              "      <td>1100.233625</td>\n",
              "    </tr>\n",
              "    <tr>\n",
              "      <th>8</th>\n",
              "      <td>Games</td>\n",
              "      <td>942.895360</td>\n",
              "    </tr>\n",
              "    <tr>\n",
              "      <th>9</th>\n",
              "      <td>Instrumentos_Musicais</td>\n",
              "      <td>834.608000</td>\n",
              "    </tr>\n",
              "    <tr>\n",
              "      <th>10</th>\n",
              "      <td>Automotivo</td>\n",
              "      <td>681.570336</td>\n",
              "    </tr>\n",
              "    <tr>\n",
              "      <th>11</th>\n",
              "      <td>Moveis</td>\n",
              "      <td>541.026186</td>\n",
              "    </tr>\n",
              "    <tr>\n",
              "      <th>12</th>\n",
              "      <td>Ar_e_Ventilacao</td>\n",
              "      <td>518.794714</td>\n",
              "    </tr>\n",
              "    <tr>\n",
              "      <th>13</th>\n",
              "      <td>Audio</td>\n",
              "      <td>480.345882</td>\n",
              "    </tr>\n",
              "    <tr>\n",
              "      <th>14</th>\n",
              "      <td>Casa_e_Construcao</td>\n",
              "      <td>433.527724</td>\n",
              "    </tr>\n",
              "    <tr>\n",
              "      <th>15</th>\n",
              "      <td>Pet_Shop</td>\n",
              "      <td>237.255400</td>\n",
              "    </tr>\n",
              "    <tr>\n",
              "      <th>16</th>\n",
              "      <td>Acessorios_e_Inovacoes</td>\n",
              "      <td>229.136192</td>\n",
              "    </tr>\n",
              "    <tr>\n",
              "      <th>17</th>\n",
              "      <td>Eletroportateis</td>\n",
              "      <td>223.767118</td>\n",
              "    </tr>\n",
              "    <tr>\n",
              "      <th>18</th>\n",
              "      <td>Ferramentas</td>\n",
              "      <td>217.589389</td>\n",
              "    </tr>\n",
              "    <tr>\n",
              "      <th>19</th>\n",
              "      <td>Cama,_Mesa_e_Banho</td>\n",
              "      <td>210.701859</td>\n",
              "    </tr>\n",
              "    <tr>\n",
              "      <th>20</th>\n",
              "      <td>Malas_e_Mochilas</td>\n",
              "      <td>194.258901</td>\n",
              "    </tr>\n",
              "    <tr>\n",
              "      <th>21</th>\n",
              "      <td>Relogios</td>\n",
              "      <td>186.947733</td>\n",
              "    </tr>\n",
              "    <tr>\n",
              "      <th>22</th>\n",
              "      <td>Brinquedos</td>\n",
              "      <td>176.447883</td>\n",
              "    </tr>\n",
              "    <tr>\n",
              "      <th>23</th>\n",
              "      <td>Utilidades_Domesticas</td>\n",
              "      <td>155.020223</td>\n",
              "    </tr>\n",
              "    <tr>\n",
              "      <th>24</th>\n",
              "      <td>Decoracao</td>\n",
              "      <td>144.496252</td>\n",
              "    </tr>\n",
              "    <tr>\n",
              "      <th>25</th>\n",
              "      <td>Bebes</td>\n",
              "      <td>130.899459</td>\n",
              "    </tr>\n",
              "    <tr>\n",
              "      <th>26</th>\n",
              "      <td>Beleza_e_Saude</td>\n",
              "      <td>119.586327</td>\n",
              "    </tr>\n",
              "    <tr>\n",
              "      <th>27</th>\n",
              "      <td>Alimentos</td>\n",
              "      <td>104.236000</td>\n",
              "    </tr>\n",
              "    <tr>\n",
              "      <th>28</th>\n",
              "      <td>Perfumaria</td>\n",
              "      <td>80.914288</td>\n",
              "    </tr>\n",
              "    <tr>\n",
              "      <th>29</th>\n",
              "      <td>Produtos_de_Limpeza</td>\n",
              "      <td>68.792460</td>\n",
              "    </tr>\n",
              "    <tr>\n",
              "      <th>30</th>\n",
              "      <td>Moda</td>\n",
              "      <td>47.008000</td>\n",
              "    </tr>\n",
              "  </tbody>\n",
              "</table>\n",
              "</div>"
            ],
            "text/plain": [
              "         Nome_Departamento  Preço_com_frete\n",
              "0         TVs_e_Acessorios      3469.378177\n",
              "1              Informatica      2159.782620\n",
              "2         Linha_Industrial      2027.106667\n",
              "3              Cine_e_Foto      1851.198000\n",
              "4    Telefones_e_Celulares      1442.185907\n",
              "5         Eletrodomesticos      1400.662596\n",
              "6          Esporte_e_Lazer      1123.139383\n",
              "7                  Tablets      1100.233625\n",
              "8                    Games       942.895360\n",
              "9    Instrumentos_Musicais       834.608000\n",
              "10              Automotivo       681.570336\n",
              "11                  Moveis       541.026186\n",
              "12         Ar_e_Ventilacao       518.794714\n",
              "13                   Audio       480.345882\n",
              "14       Casa_e_Construcao       433.527724\n",
              "15                Pet_Shop       237.255400\n",
              "16  Acessorios_e_Inovacoes       229.136192\n",
              "17         Eletroportateis       223.767118\n",
              "18             Ferramentas       217.589389\n",
              "19      Cama,_Mesa_e_Banho       210.701859\n",
              "20        Malas_e_Mochilas       194.258901\n",
              "21                Relogios       186.947733\n",
              "22              Brinquedos       176.447883\n",
              "23   Utilidades_Domesticas       155.020223\n",
              "24               Decoracao       144.496252\n",
              "25                   Bebes       130.899459\n",
              "26          Beleza_e_Saude       119.586327\n",
              "27               Alimentos       104.236000\n",
              "28              Perfumaria        80.914288\n",
              "29     Produtos_de_Limpeza        68.792460\n",
              "30                    Moda        47.008000"
            ]
          },
          "execution_count": 59,
          "metadata": {},
          "output_type": "execute_result"
        }
      ],
      "source": [
        "agg_media_preco_departamento = vendas_correto.groupby(by = 'Nome_Departamento')['Preço_com_frete'].agg('mean').sort_values(ascending = False).reset_index()\n",
        "agg_media_preco_departamento"
      ]
    },
    {
      "cell_type": "markdown",
      "metadata": {
        "id": "9NfNeW8aqWmM"
      },
      "source": [
        "Vamos aplicar a função round( ) no código acima para arredondar os resultados em duas casas decimais,"
      ]
    },
    {
      "cell_type": "code",
      "execution_count": 60,
      "metadata": {
        "colab": {
          "base_uri": "https://localhost:8080/"
        },
        "id": "_wfM8AIjprgJ",
        "outputId": "60944cad-7039-4a19-f546-17f4adfabe57"
      },
      "outputs": [
        {
          "data": {
            "text/html": [
              "<div>\n",
              "<style scoped>\n",
              "    .dataframe tbody tr th:only-of-type {\n",
              "        vertical-align: middle;\n",
              "    }\n",
              "\n",
              "    .dataframe tbody tr th {\n",
              "        vertical-align: top;\n",
              "    }\n",
              "\n",
              "    .dataframe thead th {\n",
              "        text-align: right;\n",
              "    }\n",
              "</style>\n",
              "<table border=\"1\" class=\"dataframe\">\n",
              "  <thead>\n",
              "    <tr style=\"text-align: right;\">\n",
              "      <th></th>\n",
              "      <th>Nome_Departamento</th>\n",
              "      <th>Preço_com_frete</th>\n",
              "    </tr>\n",
              "  </thead>\n",
              "  <tbody>\n",
              "    <tr>\n",
              "      <th>0</th>\n",
              "      <td>TVs_e_Acessorios</td>\n",
              "      <td>3469.38</td>\n",
              "    </tr>\n",
              "    <tr>\n",
              "      <th>1</th>\n",
              "      <td>Informatica</td>\n",
              "      <td>2159.78</td>\n",
              "    </tr>\n",
              "    <tr>\n",
              "      <th>2</th>\n",
              "      <td>Linha_Industrial</td>\n",
              "      <td>2027.11</td>\n",
              "    </tr>\n",
              "    <tr>\n",
              "      <th>3</th>\n",
              "      <td>Cine_e_Foto</td>\n",
              "      <td>1851.20</td>\n",
              "    </tr>\n",
              "    <tr>\n",
              "      <th>4</th>\n",
              "      <td>Telefones_e_Celulares</td>\n",
              "      <td>1442.19</td>\n",
              "    </tr>\n",
              "    <tr>\n",
              "      <th>5</th>\n",
              "      <td>Eletrodomesticos</td>\n",
              "      <td>1400.66</td>\n",
              "    </tr>\n",
              "    <tr>\n",
              "      <th>6</th>\n",
              "      <td>Esporte_e_Lazer</td>\n",
              "      <td>1123.14</td>\n",
              "    </tr>\n",
              "    <tr>\n",
              "      <th>7</th>\n",
              "      <td>Tablets</td>\n",
              "      <td>1100.23</td>\n",
              "    </tr>\n",
              "    <tr>\n",
              "      <th>8</th>\n",
              "      <td>Games</td>\n",
              "      <td>942.90</td>\n",
              "    </tr>\n",
              "    <tr>\n",
              "      <th>9</th>\n",
              "      <td>Instrumentos_Musicais</td>\n",
              "      <td>834.61</td>\n",
              "    </tr>\n",
              "    <tr>\n",
              "      <th>10</th>\n",
              "      <td>Automotivo</td>\n",
              "      <td>681.57</td>\n",
              "    </tr>\n",
              "    <tr>\n",
              "      <th>11</th>\n",
              "      <td>Moveis</td>\n",
              "      <td>541.03</td>\n",
              "    </tr>\n",
              "    <tr>\n",
              "      <th>12</th>\n",
              "      <td>Ar_e_Ventilacao</td>\n",
              "      <td>518.79</td>\n",
              "    </tr>\n",
              "    <tr>\n",
              "      <th>13</th>\n",
              "      <td>Audio</td>\n",
              "      <td>480.35</td>\n",
              "    </tr>\n",
              "    <tr>\n",
              "      <th>14</th>\n",
              "      <td>Casa_e_Construcao</td>\n",
              "      <td>433.53</td>\n",
              "    </tr>\n",
              "    <tr>\n",
              "      <th>15</th>\n",
              "      <td>Pet_Shop</td>\n",
              "      <td>237.26</td>\n",
              "    </tr>\n",
              "    <tr>\n",
              "      <th>16</th>\n",
              "      <td>Acessorios_e_Inovacoes</td>\n",
              "      <td>229.14</td>\n",
              "    </tr>\n",
              "    <tr>\n",
              "      <th>17</th>\n",
              "      <td>Eletroportateis</td>\n",
              "      <td>223.77</td>\n",
              "    </tr>\n",
              "    <tr>\n",
              "      <th>18</th>\n",
              "      <td>Ferramentas</td>\n",
              "      <td>217.59</td>\n",
              "    </tr>\n",
              "    <tr>\n",
              "      <th>19</th>\n",
              "      <td>Cama,_Mesa_e_Banho</td>\n",
              "      <td>210.70</td>\n",
              "    </tr>\n",
              "    <tr>\n",
              "      <th>20</th>\n",
              "      <td>Malas_e_Mochilas</td>\n",
              "      <td>194.26</td>\n",
              "    </tr>\n",
              "    <tr>\n",
              "      <th>21</th>\n",
              "      <td>Relogios</td>\n",
              "      <td>186.95</td>\n",
              "    </tr>\n",
              "    <tr>\n",
              "      <th>22</th>\n",
              "      <td>Brinquedos</td>\n",
              "      <td>176.45</td>\n",
              "    </tr>\n",
              "    <tr>\n",
              "      <th>23</th>\n",
              "      <td>Utilidades_Domesticas</td>\n",
              "      <td>155.02</td>\n",
              "    </tr>\n",
              "    <tr>\n",
              "      <th>24</th>\n",
              "      <td>Decoracao</td>\n",
              "      <td>144.50</td>\n",
              "    </tr>\n",
              "    <tr>\n",
              "      <th>25</th>\n",
              "      <td>Bebes</td>\n",
              "      <td>130.90</td>\n",
              "    </tr>\n",
              "    <tr>\n",
              "      <th>26</th>\n",
              "      <td>Beleza_e_Saude</td>\n",
              "      <td>119.59</td>\n",
              "    </tr>\n",
              "    <tr>\n",
              "      <th>27</th>\n",
              "      <td>Alimentos</td>\n",
              "      <td>104.24</td>\n",
              "    </tr>\n",
              "    <tr>\n",
              "      <th>28</th>\n",
              "      <td>Perfumaria</td>\n",
              "      <td>80.91</td>\n",
              "    </tr>\n",
              "    <tr>\n",
              "      <th>29</th>\n",
              "      <td>Produtos_de_Limpeza</td>\n",
              "      <td>68.79</td>\n",
              "    </tr>\n",
              "    <tr>\n",
              "      <th>30</th>\n",
              "      <td>Moda</td>\n",
              "      <td>47.01</td>\n",
              "    </tr>\n",
              "  </tbody>\n",
              "</table>\n",
              "</div>"
            ],
            "text/plain": [
              "         Nome_Departamento  Preço_com_frete\n",
              "0         TVs_e_Acessorios          3469.38\n",
              "1              Informatica          2159.78\n",
              "2         Linha_Industrial          2027.11\n",
              "3              Cine_e_Foto          1851.20\n",
              "4    Telefones_e_Celulares          1442.19\n",
              "5         Eletrodomesticos          1400.66\n",
              "6          Esporte_e_Lazer          1123.14\n",
              "7                  Tablets          1100.23\n",
              "8                    Games           942.90\n",
              "9    Instrumentos_Musicais           834.61\n",
              "10              Automotivo           681.57\n",
              "11                  Moveis           541.03\n",
              "12         Ar_e_Ventilacao           518.79\n",
              "13                   Audio           480.35\n",
              "14       Casa_e_Construcao           433.53\n",
              "15                Pet_Shop           237.26\n",
              "16  Acessorios_e_Inovacoes           229.14\n",
              "17         Eletroportateis           223.77\n",
              "18             Ferramentas           217.59\n",
              "19      Cama,_Mesa_e_Banho           210.70\n",
              "20        Malas_e_Mochilas           194.26\n",
              "21                Relogios           186.95\n",
              "22              Brinquedos           176.45\n",
              "23   Utilidades_Domesticas           155.02\n",
              "24               Decoracao           144.50\n",
              "25                   Bebes           130.90\n",
              "26          Beleza_e_Saude           119.59\n",
              "27               Alimentos           104.24\n",
              "28              Perfumaria            80.91\n",
              "29     Produtos_de_Limpeza            68.79\n",
              "30                    Moda            47.01"
            ]
          },
          "execution_count": 60,
          "metadata": {},
          "output_type": "execute_result"
        }
      ],
      "source": [
        "round(vendas_correto.groupby(by = 'Nome_Departamento')['Preço_com_frete'].agg('mean').sort_values(ascending = False).reset_index(), 2)"
      ]
    },
    {
      "cell_type": "markdown",
      "metadata": {
        "id": "vthxcJNnqy6_"
      },
      "source": [
        "### Quantidade de vendas por mês"
      ]
    },
    {
      "cell_type": "markdown",
      "metadata": {
        "id": "L-gnf7SdrMTT"
      },
      "source": [
        "Primeiro vamos acessar a quantidade vendida por dia,"
      ]
    },
    {
      "cell_type": "code",
      "execution_count": 61,
      "metadata": {
        "colab": {
          "base_uri": "https://localhost:8080/"
        },
        "id": "SfSeZpQNql_y",
        "outputId": "d4c35276-d1ba-4a79-fe75-e2be3e02165c"
      },
      "outputs": [
        {
          "data": {
            "text/plain": [
              "Data\n",
              "2023-02-13    226\n",
              "2023-01-20    218\n",
              "2023-03-07    215\n",
              "2023-02-20    214\n",
              "2023-03-30    214\n",
              "             ... \n",
              "2023-02-15    162\n",
              "2023-03-28    162\n",
              "2023-02-25    161\n",
              "2023-02-22    156\n",
              "2023-02-12    152\n",
              "Name: count, Length: 119, dtype: int64"
            ]
          },
          "execution_count": 61,
          "metadata": {},
          "output_type": "execute_result"
        }
      ],
      "source": [
        "vendas_correto['Data'].value_counts()"
      ]
    },
    {
      "cell_type": "markdown",
      "metadata": {
        "id": "FxqPt8e3rXHZ"
      },
      "source": [
        "Agora para acessar a quantidade vendida por mês, primeiro vamos criar uma nova coluna em nosso dataset para os meses do ano,"
      ]
    },
    {
      "cell_type": "code",
      "execution_count": null,
      "metadata": {
        "id": "wr5TYDQ8rAyZ"
      },
      "outputs": [],
      "source": [
        "vendas_correto['mês'] = vendas_correto['Data'].dt.month"
      ]
    },
    {
      "cell_type": "code",
      "execution_count": 63,
      "metadata": {
        "colab": {
          "base_uri": "https://localhost:8080/"
        },
        "id": "mPTRfdNjrnxt",
        "outputId": "f4306cbc-36a9-42dc-dcdd-16dc667aab9d"
      },
      "outputs": [
        {
          "data": {
            "text/html": [
              "<div>\n",
              "<style scoped>\n",
              "    .dataframe tbody tr th:only-of-type {\n",
              "        vertical-align: middle;\n",
              "    }\n",
              "\n",
              "    .dataframe tbody tr th {\n",
              "        vertical-align: top;\n",
              "    }\n",
              "\n",
              "    .dataframe thead th {\n",
              "        text-align: right;\n",
              "    }\n",
              "</style>\n",
              "<table border=\"1\" class=\"dataframe\">\n",
              "  <thead>\n",
              "    <tr style=\"text-align: right;\">\n",
              "      <th></th>\n",
              "      <th>idcompra</th>\n",
              "      <th>idcanalvenda</th>\n",
              "      <th>bandeira</th>\n",
              "      <th>Data</th>\n",
              "      <th>Preço</th>\n",
              "      <th>Preço_com_frete</th>\n",
              "      <th>Nome_Departamento</th>\n",
              "      <th>estado</th>\n",
              "      <th>cliente_Log</th>\n",
              "      <th>mês</th>\n",
              "    </tr>\n",
              "  </thead>\n",
              "  <tbody>\n",
              "    <tr>\n",
              "      <th>2</th>\n",
              "      <td>437305</td>\n",
              "      <td>Mobile</td>\n",
              "      <td>A</td>\n",
              "      <td>2023-03-06</td>\n",
              "      <td>35.92</td>\n",
              "      <td>37.512</td>\n",
              "      <td>Bebes</td>\n",
              "      <td>SP</td>\n",
              "      <td>15478</td>\n",
              "      <td>3</td>\n",
              "    </tr>\n",
              "    <tr>\n",
              "      <th>4</th>\n",
              "      <td>455795</td>\n",
              "      <td>Mobile</td>\n",
              "      <td>B</td>\n",
              "      <td>2023-03-31</td>\n",
              "      <td>1743.20</td>\n",
              "      <td>1785.112</td>\n",
              "      <td>Esporte_e_Lazer</td>\n",
              "      <td>RS</td>\n",
              "      <td>19790</td>\n",
              "      <td>3</td>\n",
              "    </tr>\n",
              "    <tr>\n",
              "      <th>8</th>\n",
              "      <td>75525</td>\n",
              "      <td>Mobile</td>\n",
              "      <td>B</td>\n",
              "      <td>2023-02-19</td>\n",
              "      <td>679.20</td>\n",
              "      <td>695.120</td>\n",
              "      <td>Moveis</td>\n",
              "      <td>SP</td>\n",
              "      <td>3442</td>\n",
              "      <td>2</td>\n",
              "    </tr>\n",
              "    <tr>\n",
              "      <th>19</th>\n",
              "      <td>258580</td>\n",
              "      <td>Mobile</td>\n",
              "      <td>A</td>\n",
              "      <td>2023-03-27</td>\n",
              "      <td>107.76</td>\n",
              "      <td>109.344</td>\n",
              "      <td>Bebes</td>\n",
              "      <td>ES</td>\n",
              "      <td>7662</td>\n",
              "      <td>3</td>\n",
              "    </tr>\n",
              "    <tr>\n",
              "      <th>22</th>\n",
              "      <td>306675</td>\n",
              "      <td>Mobile</td>\n",
              "      <td>B</td>\n",
              "      <td>2023-02-17</td>\n",
              "      <td>471.20</td>\n",
              "      <td>511.120</td>\n",
              "      <td>Eletrodomesticos</td>\n",
              "      <td>RJ</td>\n",
              "      <td>15060</td>\n",
              "      <td>2</td>\n",
              "    </tr>\n",
              "  </tbody>\n",
              "</table>\n",
              "</div>"
            ],
            "text/plain": [
              "    idcompra idcanalvenda bandeira       Data    Preço  Preço_com_frete  \\\n",
              "2     437305       Mobile        A 2023-03-06    35.92           37.512   \n",
              "4     455795       Mobile        B 2023-03-31  1743.20         1785.112   \n",
              "8      75525       Mobile        B 2023-02-19   679.20          695.120   \n",
              "19    258580       Mobile        A 2023-03-27   107.76          109.344   \n",
              "22    306675       Mobile        B 2023-02-17   471.20          511.120   \n",
              "\n",
              "   Nome_Departamento estado  cliente_Log  mês  \n",
              "2              Bebes     SP        15478    3  \n",
              "4    Esporte_e_Lazer     RS        19790    3  \n",
              "8             Moveis     SP         3442    2  \n",
              "19             Bebes     ES         7662    3  \n",
              "22  Eletrodomesticos     RJ        15060    2  "
            ]
          },
          "execution_count": 63,
          "metadata": {},
          "output_type": "execute_result"
        }
      ],
      "source": [
        "vendas_correto.head()"
      ]
    },
    {
      "cell_type": "markdown",
      "metadata": {
        "id": "pFXo-626ry4q"
      },
      "source": [
        "Agora, para acessar a quantidade vendida por mês, basta visualizarmos a distruibuição dos dados em nossa nova coluna 'mês',"
      ]
    },
    {
      "cell_type": "code",
      "execution_count": 64,
      "metadata": {
        "colab": {
          "base_uri": "https://localhost:8080/"
        },
        "id": "dT9m578ArxNS",
        "outputId": "988cad85-deb6-4cda-aa7c-aab45f1f388d"
      },
      "outputs": [
        {
          "data": {
            "text/plain": [
              "mês\n",
              "3    5733\n",
              "4    5590\n",
              "1    5458\n",
              "2    5266\n",
              "Name: count, dtype: int64"
            ]
          },
          "execution_count": 64,
          "metadata": {},
          "output_type": "execute_result"
        }
      ],
      "source": [
        "vendas_correto['mês'].value_counts()"
      ]
    },
    {
      "cell_type": "markdown",
      "metadata": {
        "id": "nFkwuDj43Wgx"
      },
      "source": [
        "### Média de renda dos clientes para cada tipo de canal de venda"
      ]
    },
    {
      "cell_type": "markdown",
      "metadata": {
        "id": "0KwpcpUF3dI6"
      },
      "source": [
        "Primeiro vamos importar a segunda base de dados dos clientes,"
      ]
    },
    {
      "cell_type": "code",
      "execution_count": 65,
      "metadata": {
        "id": "xatUqZ9Y3bJW"
      },
      "outputs": [],
      "source": [
        "clientes = pd.read_excel('cliente_varejo.xlsx')"
      ]
    },
    {
      "cell_type": "code",
      "execution_count": 66,
      "metadata": {
        "colab": {
          "base_uri": "https://localhost:8080/"
        },
        "id": "j4YboxPM3oz3",
        "outputId": "15710734-c150-453c-a14e-4f9e05ee103c"
      },
      "outputs": [
        {
          "data": {
            "text/html": [
              "<div>\n",
              "<style scoped>\n",
              "    .dataframe tbody tr th:only-of-type {\n",
              "        vertical-align: middle;\n",
              "    }\n",
              "\n",
              "    .dataframe tbody tr th {\n",
              "        vertical-align: top;\n",
              "    }\n",
              "\n",
              "    .dataframe thead th {\n",
              "        text-align: right;\n",
              "    }\n",
              "</style>\n",
              "<table border=\"1\" class=\"dataframe\">\n",
              "  <thead>\n",
              "    <tr style=\"text-align: right;\">\n",
              "      <th></th>\n",
              "      <th>cliente_Log</th>\n",
              "      <th>idade</th>\n",
              "      <th>renda</th>\n",
              "    </tr>\n",
              "  </thead>\n",
              "  <tbody>\n",
              "    <tr>\n",
              "      <th>0</th>\n",
              "      <td>15042</td>\n",
              "      <td>89</td>\n",
              "      <td>11337</td>\n",
              "    </tr>\n",
              "    <tr>\n",
              "      <th>1</th>\n",
              "      <td>17590</td>\n",
              "      <td>54</td>\n",
              "      <td>2050</td>\n",
              "    </tr>\n",
              "    <tr>\n",
              "      <th>2</th>\n",
              "      <td>15478</td>\n",
              "      <td>47</td>\n",
              "      <td>8258</td>\n",
              "    </tr>\n",
              "    <tr>\n",
              "      <th>3</th>\n",
              "      <td>2933</td>\n",
              "      <td>39</td>\n",
              "      <td>4671</td>\n",
              "    </tr>\n",
              "    <tr>\n",
              "      <th>4</th>\n",
              "      <td>19790</td>\n",
              "      <td>26</td>\n",
              "      <td>9207</td>\n",
              "    </tr>\n",
              "  </tbody>\n",
              "</table>\n",
              "</div>"
            ],
            "text/plain": [
              "   cliente_Log  idade  renda\n",
              "0        15042     89  11337\n",
              "1        17590     54   2050\n",
              "2        15478     47   8258\n",
              "3         2933     39   4671\n",
              "4        19790     26   9207"
            ]
          },
          "execution_count": 66,
          "metadata": {},
          "output_type": "execute_result"
        }
      ],
      "source": [
        "clientes.head()"
      ]
    },
    {
      "cell_type": "markdown",
      "metadata": {
        "id": "xXKfKJlb5wBN"
      },
      "source": [
        "Vamos verificar se o dataset de clientes apresenta dados nulos, utilizando a função info()"
      ]
    },
    {
      "cell_type": "code",
      "execution_count": 67,
      "metadata": {
        "colab": {
          "base_uri": "https://localhost:8080/"
        },
        "id": "dwYKtNwa54MC",
        "outputId": "c4aba5b4-9d4f-4262-dc1c-32aa398db06d"
      },
      "outputs": [
        {
          "name": "stdout",
          "output_type": "stream",
          "text": [
            "<class 'pandas.core.frame.DataFrame'>\n",
            "RangeIndex: 26425 entries, 0 to 26424\n",
            "Data columns (total 3 columns):\n",
            " #   Column       Non-Null Count  Dtype\n",
            "---  ------       --------------  -----\n",
            " 0   cliente_Log  26425 non-null  int64\n",
            " 1   idade        26425 non-null  int64\n",
            " 2   renda        26425 non-null  int64\n",
            "dtypes: int64(3)\n",
            "memory usage: 619.5 KB\n"
          ]
        }
      ],
      "source": [
        "clientes.info()"
      ]
    },
    {
      "cell_type": "markdown",
      "metadata": {
        "id": "TD37Dhoo57SA"
      },
      "source": [
        "Percebe-se que não tem-se dados nulos."
      ]
    },
    {
      "cell_type": "markdown",
      "metadata": {
        "id": "uBdpo3vy6A-K"
      },
      "source": [
        "Convertendo a coluna 'renda' para o tipo float,"
      ]
    },
    {
      "cell_type": "code",
      "execution_count": 68,
      "metadata": {
        "id": "e99vGU1-6GGr"
      },
      "outputs": [],
      "source": [
        "clientes['renda'] = clientes['renda'].astype('float')"
      ]
    },
    {
      "cell_type": "code",
      "execution_count": 69,
      "metadata": {
        "colab": {
          "base_uri": "https://localhost:8080/"
        },
        "id": "CYsx2D0Q6Rgg",
        "outputId": "00434b8b-3847-41ce-f681-85c36a244b5c"
      },
      "outputs": [
        {
          "data": {
            "text/plain": [
              "cliente_Log      int64\n",
              "idade            int64\n",
              "renda          float64\n",
              "dtype: object"
            ]
          },
          "execution_count": 69,
          "metadata": {},
          "output_type": "execute_result"
        }
      ],
      "source": [
        "clientes.dtypes"
      ]
    },
    {
      "cell_type": "markdown",
      "metadata": {
        "id": "20HSjz2U40JP"
      },
      "source": [
        "Relembrando o primeiro dataset,"
      ]
    },
    {
      "cell_type": "code",
      "execution_count": 70,
      "metadata": {
        "colab": {
          "base_uri": "https://localhost:8080/"
        },
        "id": "-2kHu2dQ3rH_",
        "outputId": "4f3fb7e6-5b2e-4505-d39e-e1bd7450f02e"
      },
      "outputs": [
        {
          "data": {
            "text/html": [
              "<div>\n",
              "<style scoped>\n",
              "    .dataframe tbody tr th:only-of-type {\n",
              "        vertical-align: middle;\n",
              "    }\n",
              "\n",
              "    .dataframe tbody tr th {\n",
              "        vertical-align: top;\n",
              "    }\n",
              "\n",
              "    .dataframe thead th {\n",
              "        text-align: right;\n",
              "    }\n",
              "</style>\n",
              "<table border=\"1\" class=\"dataframe\">\n",
              "  <thead>\n",
              "    <tr style=\"text-align: right;\">\n",
              "      <th></th>\n",
              "      <th>idcompra</th>\n",
              "      <th>idcanalvenda</th>\n",
              "      <th>bandeira</th>\n",
              "      <th>Data</th>\n",
              "      <th>Preço</th>\n",
              "      <th>Preço_com_frete</th>\n",
              "      <th>Nome_Departamento</th>\n",
              "      <th>estado</th>\n",
              "      <th>cliente_Log</th>\n",
              "      <th>mês</th>\n",
              "    </tr>\n",
              "  </thead>\n",
              "  <tbody>\n",
              "    <tr>\n",
              "      <th>2</th>\n",
              "      <td>437305</td>\n",
              "      <td>Mobile</td>\n",
              "      <td>A</td>\n",
              "      <td>2023-03-06</td>\n",
              "      <td>35.92</td>\n",
              "      <td>37.512</td>\n",
              "      <td>Bebes</td>\n",
              "      <td>SP</td>\n",
              "      <td>15478</td>\n",
              "      <td>3</td>\n",
              "    </tr>\n",
              "    <tr>\n",
              "      <th>4</th>\n",
              "      <td>455795</td>\n",
              "      <td>Mobile</td>\n",
              "      <td>B</td>\n",
              "      <td>2023-03-31</td>\n",
              "      <td>1743.20</td>\n",
              "      <td>1785.112</td>\n",
              "      <td>Esporte_e_Lazer</td>\n",
              "      <td>RS</td>\n",
              "      <td>19790</td>\n",
              "      <td>3</td>\n",
              "    </tr>\n",
              "    <tr>\n",
              "      <th>8</th>\n",
              "      <td>75525</td>\n",
              "      <td>Mobile</td>\n",
              "      <td>B</td>\n",
              "      <td>2023-02-19</td>\n",
              "      <td>679.20</td>\n",
              "      <td>695.120</td>\n",
              "      <td>Moveis</td>\n",
              "      <td>SP</td>\n",
              "      <td>3442</td>\n",
              "      <td>2</td>\n",
              "    </tr>\n",
              "    <tr>\n",
              "      <th>19</th>\n",
              "      <td>258580</td>\n",
              "      <td>Mobile</td>\n",
              "      <td>A</td>\n",
              "      <td>2023-03-27</td>\n",
              "      <td>107.76</td>\n",
              "      <td>109.344</td>\n",
              "      <td>Bebes</td>\n",
              "      <td>ES</td>\n",
              "      <td>7662</td>\n",
              "      <td>3</td>\n",
              "    </tr>\n",
              "    <tr>\n",
              "      <th>22</th>\n",
              "      <td>306675</td>\n",
              "      <td>Mobile</td>\n",
              "      <td>B</td>\n",
              "      <td>2023-02-17</td>\n",
              "      <td>471.20</td>\n",
              "      <td>511.120</td>\n",
              "      <td>Eletrodomesticos</td>\n",
              "      <td>RJ</td>\n",
              "      <td>15060</td>\n",
              "      <td>2</td>\n",
              "    </tr>\n",
              "  </tbody>\n",
              "</table>\n",
              "</div>"
            ],
            "text/plain": [
              "    idcompra idcanalvenda bandeira       Data    Preço  Preço_com_frete  \\\n",
              "2     437305       Mobile        A 2023-03-06    35.92           37.512   \n",
              "4     455795       Mobile        B 2023-03-31  1743.20         1785.112   \n",
              "8      75525       Mobile        B 2023-02-19   679.20          695.120   \n",
              "19    258580       Mobile        A 2023-03-27   107.76          109.344   \n",
              "22    306675       Mobile        B 2023-02-17   471.20          511.120   \n",
              "\n",
              "   Nome_Departamento estado  cliente_Log  mês  \n",
              "2              Bebes     SP        15478    3  \n",
              "4    Esporte_e_Lazer     RS        19790    3  \n",
              "8             Moveis     SP         3442    2  \n",
              "19             Bebes     ES         7662    3  \n",
              "22  Eletrodomesticos     RJ        15060    2  "
            ]
          },
          "execution_count": 70,
          "metadata": {},
          "output_type": "execute_result"
        }
      ],
      "source": [
        "vendas_correto.head()"
      ]
    },
    {
      "cell_type": "markdown",
      "metadata": {
        "id": "52OaZGxE74qS"
      },
      "source": [
        "Unindo a tabela de clientes a tabela de vendas,"
      ]
    },
    {
      "cell_type": "code",
      "execution_count": 71,
      "metadata": {
        "id": "kYR5HgVV7liH"
      },
      "outputs": [],
      "source": [
        "vendas_cliente = vendas_correto.merge(clientes, how = 'right', on = ['cliente_Log'])"
      ]
    },
    {
      "cell_type": "code",
      "execution_count": 72,
      "metadata": {
        "colab": {
          "base_uri": "https://localhost:8080/"
        },
        "id": "xvzCmsV78Txb",
        "outputId": "21ee625c-f90a-4c9f-bb7c-113e30e68f94"
      },
      "outputs": [
        {
          "data": {
            "text/html": [
              "<div>\n",
              "<style scoped>\n",
              "    .dataframe tbody tr th:only-of-type {\n",
              "        vertical-align: middle;\n",
              "    }\n",
              "\n",
              "    .dataframe tbody tr th {\n",
              "        vertical-align: top;\n",
              "    }\n",
              "\n",
              "    .dataframe thead th {\n",
              "        text-align: right;\n",
              "    }\n",
              "</style>\n",
              "<table border=\"1\" class=\"dataframe\">\n",
              "  <thead>\n",
              "    <tr style=\"text-align: right;\">\n",
              "      <th></th>\n",
              "      <th>idcompra</th>\n",
              "      <th>idcanalvenda</th>\n",
              "      <th>bandeira</th>\n",
              "      <th>Data</th>\n",
              "      <th>Preço</th>\n",
              "      <th>Preço_com_frete</th>\n",
              "      <th>Nome_Departamento</th>\n",
              "      <th>estado</th>\n",
              "      <th>cliente_Log</th>\n",
              "      <th>mês</th>\n",
              "      <th>idade</th>\n",
              "      <th>renda</th>\n",
              "    </tr>\n",
              "  </thead>\n",
              "  <tbody>\n",
              "    <tr>\n",
              "      <th>0</th>\n",
              "      <td>457880.0</td>\n",
              "      <td>Aplicativo</td>\n",
              "      <td>A</td>\n",
              "      <td>2023-02-10</td>\n",
              "      <td>1079.20</td>\n",
              "      <td>1190.400</td>\n",
              "      <td>Moveis</td>\n",
              "      <td>MG</td>\n",
              "      <td>15042</td>\n",
              "      <td>2.0</td>\n",
              "      <td>89</td>\n",
              "      <td>11337.0</td>\n",
              "    </tr>\n",
              "    <tr>\n",
              "      <th>1</th>\n",
              "      <td>335475.0</td>\n",
              "      <td>Aplicativo</td>\n",
              "      <td>B</td>\n",
              "      <td>2023-04-25</td>\n",
              "      <td>2799.20</td>\n",
              "      <td>2815.120</td>\n",
              "      <td>Informatica</td>\n",
              "      <td>RJ</td>\n",
              "      <td>15042</td>\n",
              "      <td>4.0</td>\n",
              "      <td>89</td>\n",
              "      <td>11337.0</td>\n",
              "    </tr>\n",
              "    <tr>\n",
              "      <th>2</th>\n",
              "      <td>380955.0</td>\n",
              "      <td>Internet</td>\n",
              "      <td>A</td>\n",
              "      <td>2023-01-14</td>\n",
              "      <td>135.92</td>\n",
              "      <td>137.512</td>\n",
              "      <td>Bebes</td>\n",
              "      <td>SP</td>\n",
              "      <td>17590</td>\n",
              "      <td>1.0</td>\n",
              "      <td>54</td>\n",
              "      <td>2050.0</td>\n",
              "    </tr>\n",
              "    <tr>\n",
              "      <th>3</th>\n",
              "      <td>437305.0</td>\n",
              "      <td>Mobile</td>\n",
              "      <td>A</td>\n",
              "      <td>2023-03-06</td>\n",
              "      <td>35.92</td>\n",
              "      <td>37.512</td>\n",
              "      <td>Bebes</td>\n",
              "      <td>SP</td>\n",
              "      <td>15478</td>\n",
              "      <td>3.0</td>\n",
              "      <td>47</td>\n",
              "      <td>8258.0</td>\n",
              "    </tr>\n",
              "    <tr>\n",
              "      <th>4</th>\n",
              "      <td>452270.0</td>\n",
              "      <td>Aplicativo</td>\n",
              "      <td>A</td>\n",
              "      <td>2023-02-14</td>\n",
              "      <td>1199.20</td>\n",
              "      <td>1207.120</td>\n",
              "      <td>Eletrodomesticos</td>\n",
              "      <td>RJ</td>\n",
              "      <td>15478</td>\n",
              "      <td>2.0</td>\n",
              "      <td>47</td>\n",
              "      <td>8258.0</td>\n",
              "    </tr>\n",
              "  </tbody>\n",
              "</table>\n",
              "</div>"
            ],
            "text/plain": [
              "   idcompra idcanalvenda bandeira       Data    Preço  Preço_com_frete  \\\n",
              "0  457880.0   Aplicativo        A 2023-02-10  1079.20         1190.400   \n",
              "1  335475.0   Aplicativo        B 2023-04-25  2799.20         2815.120   \n",
              "2  380955.0     Internet        A 2023-01-14   135.92          137.512   \n",
              "3  437305.0       Mobile        A 2023-03-06    35.92           37.512   \n",
              "4  452270.0   Aplicativo        A 2023-02-14  1199.20         1207.120   \n",
              "\n",
              "  Nome_Departamento estado  cliente_Log  mês  idade    renda  \n",
              "0            Moveis     MG        15042  2.0     89  11337.0  \n",
              "1       Informatica     RJ        15042  4.0     89  11337.0  \n",
              "2             Bebes     SP        17590  1.0     54   2050.0  \n",
              "3             Bebes     SP        15478  3.0     47   8258.0  \n",
              "4  Eletrodomesticos     RJ        15478  2.0     47   8258.0  "
            ]
          },
          "execution_count": 72,
          "metadata": {},
          "output_type": "execute_result"
        }
      ],
      "source": [
        "vendas_cliente.head()"
      ]
    },
    {
      "cell_type": "markdown",
      "metadata": {
        "id": "z3aQIaOa7SEz"
      },
      "source": [
        "Calculando a média de renda dos clientes agrupados pelos canais de venda,"
      ]
    },
    {
      "cell_type": "code",
      "execution_count": 73,
      "metadata": {
        "id": "8yF5teq77n-m"
      },
      "outputs": [],
      "source": [
        "media_renda = round(vendas_cliente.groupby(by = 'idcanalvenda')['renda'].agg('mean').sort_values(ascending = False),2)"
      ]
    },
    {
      "cell_type": "code",
      "execution_count": 74,
      "metadata": {
        "colab": {
          "base_uri": "https://localhost:8080/"
        },
        "id": "2qPtoKdA831g",
        "outputId": "28b8c671-dd47-400f-dd4e-2fa5f230df63"
      },
      "outputs": [
        {
          "data": {
            "text/html": [
              "<div>\n",
              "<style scoped>\n",
              "    .dataframe tbody tr th:only-of-type {\n",
              "        vertical-align: middle;\n",
              "    }\n",
              "\n",
              "    .dataframe tbody tr th {\n",
              "        vertical-align: top;\n",
              "    }\n",
              "\n",
              "    .dataframe thead th {\n",
              "        text-align: right;\n",
              "    }\n",
              "</style>\n",
              "<table border=\"1\" class=\"dataframe\">\n",
              "  <thead>\n",
              "    <tr style=\"text-align: right;\">\n",
              "      <th></th>\n",
              "      <th>idcanalvenda</th>\n",
              "      <th>renda</th>\n",
              "    </tr>\n",
              "  </thead>\n",
              "  <tbody>\n",
              "    <tr>\n",
              "      <th>0</th>\n",
              "      <td>Aplicativo</td>\n",
              "      <td>8244.85</td>\n",
              "    </tr>\n",
              "    <tr>\n",
              "      <th>1</th>\n",
              "      <td>Mobile</td>\n",
              "      <td>8222.72</td>\n",
              "    </tr>\n",
              "    <tr>\n",
              "      <th>2</th>\n",
              "      <td>Internet</td>\n",
              "      <td>8211.84</td>\n",
              "    </tr>\n",
              "  </tbody>\n",
              "</table>\n",
              "</div>"
            ],
            "text/plain": [
              "  idcanalvenda    renda\n",
              "0   Aplicativo  8244.85\n",
              "1       Mobile  8222.72\n",
              "2     Internet  8211.84"
            ]
          },
          "execution_count": 74,
          "metadata": {},
          "output_type": "execute_result"
        }
      ],
      "source": [
        "media_renda.reset_index()"
      ]
    },
    {
      "cell_type": "markdown",
      "metadata": {
        "id": "5LJdRu-Q-4jS"
      },
      "source": [
        "### Média de idade dos clientes por bandeira"
      ]
    },
    {
      "cell_type": "code",
      "execution_count": 75,
      "metadata": {
        "id": "i2HFhokj85n3"
      },
      "outputs": [],
      "source": [
        "media_idade = round(vendas_cliente.groupby(by = 'bandeira')['idade'].agg('mean').sort_values(ascending = False),2).reset_index()"
      ]
    },
    {
      "cell_type": "code",
      "execution_count": 76,
      "metadata": {
        "colab": {
          "base_uri": "https://localhost:8080/",
          "height": 112
        },
        "id": "JH8K89wx_N38",
        "outputId": "bb6405a8-c8c8-4c82-98f8-352150b1688a"
      },
      "outputs": [
        {
          "data": {
            "text/html": [
              "<div>\n",
              "<style scoped>\n",
              "    .dataframe tbody tr th:only-of-type {\n",
              "        vertical-align: middle;\n",
              "    }\n",
              "\n",
              "    .dataframe tbody tr th {\n",
              "        vertical-align: top;\n",
              "    }\n",
              "\n",
              "    .dataframe thead th {\n",
              "        text-align: right;\n",
              "    }\n",
              "</style>\n",
              "<table border=\"1\" class=\"dataframe\">\n",
              "  <thead>\n",
              "    <tr style=\"text-align: right;\">\n",
              "      <th></th>\n",
              "      <th>bandeira</th>\n",
              "      <th>idade</th>\n",
              "    </tr>\n",
              "  </thead>\n",
              "  <tbody>\n",
              "    <tr>\n",
              "      <th>0</th>\n",
              "      <td>A</td>\n",
              "      <td>53.30</td>\n",
              "    </tr>\n",
              "    <tr>\n",
              "      <th>1</th>\n",
              "      <td>B</td>\n",
              "      <td>53.29</td>\n",
              "    </tr>\n",
              "  </tbody>\n",
              "</table>\n",
              "</div>"
            ],
            "text/plain": [
              "  bandeira  idade\n",
              "0        A  53.30\n",
              "1        B  53.29"
            ]
          },
          "execution_count": 76,
          "metadata": {},
          "output_type": "execute_result"
        }
      ],
      "source": [
        "media_idade"
      ]
    },
    {
      "cell_type": "markdown",
      "metadata": {
        "id": "dWqgfPpQ_4wU"
      },
      "source": [
        "## Gráficos das métricas:"
      ]
    },
    {
      "cell_type": "markdown",
      "metadata": {
        "id": "oWNG1oajLnkd"
      },
      "source": [
        "### Matplotlib.pyplot"
      ]
    },
    {
      "cell_type": "markdown",
      "metadata": {
        "id": "7pvS9yOcB_Wf"
      },
      "source": [
        "Importando a biblioteca matplotlib.pyplot para fazermos os gráficos,"
      ]
    },
    {
      "cell_type": "code",
      "execution_count": 77,
      "metadata": {
        "id": "UxgMj8Pl__NG"
      },
      "outputs": [],
      "source": [
        "import matplotlib.pyplot as plt"
      ]
    },
    {
      "cell_type": "markdown",
      "metadata": {
        "id": "xyfktAUZCE2-"
      },
      "source": [
        "#### Gráfico das médias de idades por bandeira de venda"
      ]
    },
    {
      "cell_type": "code",
      "execution_count": 78,
      "metadata": {
        "colab": {
          "base_uri": "https://localhost:8080/",
          "height": 714
        },
        "id": "OnbuGkcGBmNL",
        "outputId": "2f34b3aa-c192-4200-9b58-85971c20db58"
      },
      "outputs": [
        {
          "data": {
            "text/plain": [
              "<Figure size 1000x800 with 0 Axes>"
            ]
          },
          "metadata": {},
          "output_type": "display_data"
        },
        {
          "data": {
            "image/png": "[encoded data removed]",
            "text/plain": [
              "<Figure size 640x480 with 1 Axes>"
            ]
          },
          "metadata": {},
          "output_type": "display_data"
        }
      ],
      "source": [
        "plt.figure(figsize = (10,8))\n",
        "media_idade.plot(kind = 'bar', color = 'green')\n",
        "plt.xlabel('Bandeira')\n",
        "plt.ylabel('Média de idade')\n",
        "plt.title('Média de idade por Bandeira', loc = 'center', color = 'black')\n",
        "plt.show()"
      ]
    },
    {
      "cell_type": "markdown",
      "metadata": {
        "id": "aOXl7RnoDoPr"
      },
      "source": [
        "#### Gráfico da média de renda dos clientes por canal de venda"
      ]
    },
    {
      "cell_type": "code",
      "execution_count": 79,
      "metadata": {
        "colab": {
          "base_uri": "https://localhost:8080/"
        },
        "id": "yMhc8dO6Ce7M",
        "outputId": "2cfab6d8-4a49-4ca5-d85e-360c25f80f37"
      },
      "outputs": [
        {
          "data": {
            "image/png": "[encoded data removed]",
            "text/plain": [
              "<Figure size 1200x800 with 1 Axes>"
            ]
          },
          "metadata": {},
          "output_type": "display_data"
        }
      ],
      "source": [
        "plt.figure(figsize = (12,8))\n",
        "media_renda.plot(kind = 'bar', color = 'green')\n",
        "plt.xlabel('Canal de venda')\n",
        "plt.ylabel('Média de renda')\n",
        "plt.title('Média de renda dos clientes por canal de venda', loc = 'center')\n",
        "plt.show()"
      ]
    },
    {
      "cell_type": "markdown",
      "metadata": {
        "id": "JXX3BjQwIvEw"
      },
      "source": [
        "#### Gráfico da quantidade de vendas por data"
      ]
    },
    {
      "cell_type": "markdown",
      "metadata": {
        "id": "TVCrfLiJExfO"
      },
      "source": [
        "Avaliando a quantidade de vendas por data,"
      ]
    },
    {
      "cell_type": "code",
      "execution_count": 80,
      "metadata": {
        "colab": {
          "base_uri": "https://localhost:8080/",
          "height": 423
        },
        "id": "LwRlic7tEFML",
        "outputId": "7d85bbc7-011a-442b-844a-171878e07c97"
      },
      "outputs": [
        {
          "data": {
            "text/html": [
              "<div>\n",
              "<style scoped>\n",
              "    .dataframe tbody tr th:only-of-type {\n",
              "        vertical-align: middle;\n",
              "    }\n",
              "\n",
              "    .dataframe tbody tr th {\n",
              "        vertical-align: top;\n",
              "    }\n",
              "\n",
              "    .dataframe thead th {\n",
              "        text-align: right;\n",
              "    }\n",
              "</style>\n",
              "<table border=\"1\" class=\"dataframe\">\n",
              "  <thead>\n",
              "    <tr style=\"text-align: right;\">\n",
              "      <th></th>\n",
              "      <th>Data</th>\n",
              "      <th>idcompra</th>\n",
              "    </tr>\n",
              "  </thead>\n",
              "  <tbody>\n",
              "    <tr>\n",
              "      <th>0</th>\n",
              "      <td>2023-01-02</td>\n",
              "      <td>193</td>\n",
              "    </tr>\n",
              "    <tr>\n",
              "      <th>1</th>\n",
              "      <td>2023-01-03</td>\n",
              "      <td>163</td>\n",
              "    </tr>\n",
              "    <tr>\n",
              "      <th>2</th>\n",
              "      <td>2023-01-04</td>\n",
              "      <td>189</td>\n",
              "    </tr>\n",
              "    <tr>\n",
              "      <th>3</th>\n",
              "      <td>2023-01-05</td>\n",
              "      <td>204</td>\n",
              "    </tr>\n",
              "    <tr>\n",
              "      <th>4</th>\n",
              "      <td>2023-01-06</td>\n",
              "      <td>198</td>\n",
              "    </tr>\n",
              "    <tr>\n",
              "      <th>...</th>\n",
              "      <td>...</td>\n",
              "      <td>...</td>\n",
              "    </tr>\n",
              "    <tr>\n",
              "      <th>114</th>\n",
              "      <td>2023-04-26</td>\n",
              "      <td>201</td>\n",
              "    </tr>\n",
              "    <tr>\n",
              "      <th>115</th>\n",
              "      <td>2023-04-27</td>\n",
              "      <td>212</td>\n",
              "    </tr>\n",
              "    <tr>\n",
              "      <th>116</th>\n",
              "      <td>2023-04-28</td>\n",
              "      <td>192</td>\n",
              "    </tr>\n",
              "    <tr>\n",
              "      <th>117</th>\n",
              "      <td>2023-04-29</td>\n",
              "      <td>187</td>\n",
              "    </tr>\n",
              "    <tr>\n",
              "      <th>118</th>\n",
              "      <td>2023-04-30</td>\n",
              "      <td>192</td>\n",
              "    </tr>\n",
              "  </tbody>\n",
              "</table>\n",
              "<p>119 rows × 2 columns</p>\n",
              "</div>"
            ],
            "text/plain": [
              "          Data  idcompra\n",
              "0   2023-01-02       193\n",
              "1   2023-01-03       163\n",
              "2   2023-01-04       189\n",
              "3   2023-01-05       204\n",
              "4   2023-01-06       198\n",
              "..         ...       ...\n",
              "114 2023-04-26       201\n",
              "115 2023-04-27       212\n",
              "116 2023-04-28       192\n",
              "117 2023-04-29       187\n",
              "118 2023-04-30       192\n",
              "\n",
              "[119 rows x 2 columns]"
            ]
          },
          "execution_count": 80,
          "metadata": {},
          "output_type": "execute_result"
        }
      ],
      "source": [
        "vendas_por_data = vendas_correto.groupby(by = 'Data')['idcompra'].agg('count').reset_index()\n",
        "vendas_por_data"
      ]
    },
    {
      "cell_type": "markdown",
      "metadata": {
        "id": "PbBESpONGMX4"
      },
      "source": [
        "Plotando um gráfico de linha da quantidade de vendas por data,"
      ]
    },
    {
      "cell_type": "code",
      "execution_count": 81,
      "metadata": {
        "colab": {
          "base_uri": "https://localhost:8080/",
          "height": 564
        },
        "id": "9DoyD1LkFMkt",
        "outputId": "3f229c48-7738-40db-f947-8185d32a53df"
      },
      "outputs": [
        {
          "data": {
            "image/png": "[encoded data removed]",
            "text/plain": [
              "<Figure size 1400x600 with 1 Axes>"
            ]
          },
          "metadata": {},
          "output_type": "display_data"
        }
      ],
      "source": [
        "plt.figure(figsize = (14,6))\n",
        "x = vendas_por_data['Data']\n",
        "y = vendas_por_data['idcompra']\n",
        "plt.plot(x, y)\n",
        "plt.xlabel('Data da venda')\n",
        "plt.ylabel('Quantidade de vendas')\n",
        "plt.title('Quantidade de vendas por data', loc = 'center')\n",
        "plt.show()"
      ]
    },
    {
      "cell_type": "markdown",
      "metadata": {
        "id": "RR-6DAzEI1P8"
      },
      "source": [
        "#### Gráfico média de preço com frete por departamento"
      ]
    },
    {
      "cell_type": "code",
      "execution_count": 82,
      "metadata": {
        "colab": {
          "base_uri": "https://localhost:8080/",
          "height": 206
        },
        "id": "W9oD-1_UJbXT",
        "outputId": "086d78a9-d91b-44b8-ca07-e5d35a9824ae"
      },
      "outputs": [
        {
          "data": {
            "text/html": [
              "<div>\n",
              "<style scoped>\n",
              "    .dataframe tbody tr th:only-of-type {\n",
              "        vertical-align: middle;\n",
              "    }\n",
              "\n",
              "    .dataframe tbody tr th {\n",
              "        vertical-align: top;\n",
              "    }\n",
              "\n",
              "    .dataframe thead th {\n",
              "        text-align: right;\n",
              "    }\n",
              "</style>\n",
              "<table border=\"1\" class=\"dataframe\">\n",
              "  <thead>\n",
              "    <tr style=\"text-align: right;\">\n",
              "      <th></th>\n",
              "      <th>Nome_Departamento</th>\n",
              "      <th>Preço_com_frete</th>\n",
              "    </tr>\n",
              "  </thead>\n",
              "  <tbody>\n",
              "    <tr>\n",
              "      <th>0</th>\n",
              "      <td>TVs_e_Acessorios</td>\n",
              "      <td>3469.378177</td>\n",
              "    </tr>\n",
              "    <tr>\n",
              "      <th>1</th>\n",
              "      <td>Informatica</td>\n",
              "      <td>2159.782620</td>\n",
              "    </tr>\n",
              "    <tr>\n",
              "      <th>2</th>\n",
              "      <td>Linha_Industrial</td>\n",
              "      <td>2027.106667</td>\n",
              "    </tr>\n",
              "    <tr>\n",
              "      <th>3</th>\n",
              "      <td>Cine_e_Foto</td>\n",
              "      <td>1851.198000</td>\n",
              "    </tr>\n",
              "    <tr>\n",
              "      <th>4</th>\n",
              "      <td>Telefones_e_Celulares</td>\n",
              "      <td>1442.185907</td>\n",
              "    </tr>\n",
              "  </tbody>\n",
              "</table>\n",
              "</div>"
            ],
            "text/plain": [
              "       Nome_Departamento  Preço_com_frete\n",
              "0       TVs_e_Acessorios      3469.378177\n",
              "1            Informatica      2159.782620\n",
              "2       Linha_Industrial      2027.106667\n",
              "3            Cine_e_Foto      1851.198000\n",
              "4  Telefones_e_Celulares      1442.185907"
            ]
          },
          "execution_count": 82,
          "metadata": {},
          "output_type": "execute_result"
        }
      ],
      "source": [
        "agg_media_preco_departamento.head()"
      ]
    },
    {
      "cell_type": "code",
      "execution_count": 83,
      "metadata": {
        "colab": {
          "base_uri": "https://localhost:8080/",
          "height": 618
        },
        "id": "n9ao6FUJJoQ1",
        "outputId": "4bc6395d-6160-4336-b567-9b431fcb965b"
      },
      "outputs": [
        {
          "data": {
            "image/png": "[encoded data removed]",
            "text/plain": [
              "<Figure size 3000x1200 with 1 Axes>"
            ]
          },
          "metadata": {},
          "output_type": "display_data"
        }
      ],
      "source": [
        "plt.figure(figsize = (30,12))\n",
        "x = agg_media_preco_departamento['Nome_Departamento']\n",
        "y = agg_media_preco_departamento['Preço_com_frete']\n",
        "plt.bar(x, y)\n",
        "plt.xlabel('Departamento')\n",
        "plt.ylabel('Preços com frete')\n",
        "plt.title('Média de preços com frete por departamento', loc = 'center', fontsize = 25)\n",
        "plt.show()"
      ]
    },
    {
      "cell_type": "markdown",
      "metadata": {
        "id": "yZVhWQmtL4h7"
      },
      "source": [
        "### Plotly"
      ]
    },
    {
      "cell_type": "markdown",
      "metadata": {
        "id": "yczWRpRUMAqZ"
      },
      "source": [
        "Instalando a biblioteca plotly"
      ]
    },
    {
      "cell_type": "code",
      "execution_count": null,
      "metadata": {
        "id": "uoQuqjPbL-J-"
      },
      "outputs": [],
      "source": [
        "%pip install plotly\n",
        "%pip install cufflinks\n",
        "%pip install chart-studio"
      ]
    },
    {
      "cell_type": "markdown",
      "metadata": {
        "id": "aqGTYLLdMY-G"
      },
      "source": [
        "Importando as bibliotecas instaladas anteriormente,"
      ]
    },
    {
      "cell_type": "code",
      "execution_count": 85,
      "metadata": {
        "id": "YobRML6RMPWg"
      },
      "outputs": [],
      "source": [
        "import chart_studio.plotly as py\n",
        "import cufflinks as cf\n",
        "import plotly.graph_objects as go\n",
        "import plotly.express as px"
      ]
    },
    {
      "cell_type": "markdown",
      "metadata": {
        "id": "pPvzYIzeNPOs"
      },
      "source": [
        "#### Gráfico média de idades por bandeira"
      ]
    },
    {
      "cell_type": "code",
      "execution_count": 86,
      "metadata": {
        "colab": {
          "base_uri": "https://localhost:8080/",
          "height": 542
        },
        "id": "fKJWfQ_zNHoH",
        "outputId": "3a8b33f5-dd6d-4356-d223-207fea5f78b2"
      },
      "outputs": [
        {
          "data": {
            "application/vnd.plotly.v1+json": {
              "config": {
                "plotlyServerURL": "https://plot.ly"
              },
              "data": [
                {
                  "alignmentgroup": "True",
                  "hovertemplate": "bandeira=%{x}<br>idade=%{y}<extra></extra>",
                  "legendgroup": "",
                  "marker": {
                    "color": "#636efa",
                    "pattern": {
                      "shape": ""
                    }
                  },
                  "name": "",
                  "offsetgroup": "",
                  "orientation": "v",
                  "showlegend": false,
                  "textposition": "auto",
                  "type": "bar",
                  "x": [
                    "A",
                    "B"
                  ],
                  "xaxis": "x",
                  "y": [
                    53.3,
                    53.29
                  ],
                  "yaxis": "y"
                }
              ],
              "layout": {
                "barmode": "relative",
                "legend": {
                  "tracegroupgap": 0
                },
                "margin": {
                  "t": 60
                },
                "template": {
                  "data": {
                    "bar": [
                      {
                        "error_x": {
                          "color": "#2a3f5f"
                        },
                        "error_y": {
                          "color": "#2a3f5f"
                        },
                        "marker": {
                          "line": {
                            "color": "#E5ECF6",
                            "width": 0.5
                          },
                          "pattern": {
                            "fillmode": "overlay",
                            "size": 10,
                            "solidity": 0.2
                          }
                        },
                        "type": "bar"
                      }
                    ],
                    "barpolar": [
                      {
                        "marker": {
                          "line": {
                            "color": "#E5ECF6",
                            "width": 0.5
                          },
                          "pattern": {
                            "fillmode": "overlay",
                            "size": 10,
                            "solidity": 0.2
                          }
                        },
                        "type": "barpolar"
                      }
                    ],
                    "carpet": [
                      {
                        "aaxis": {
                          "endlinecolor": "#2a3f5f",
                          "gridcolor": "white",
                          "linecolor": "white",
                          "minorgridcolor": "white",
                          "startlinecolor": "#2a3f5f"
                        },
                        "baxis": {
                          "endlinecolor": "#2a3f5f",
                          "gridcolor": "white",
                          "linecolor": "white",
                          "minorgridcolor": "white",
                          "startlinecolor": "#2a3f5f"
                        },
                        "type": "carpet"
                      }
                    ],
                    "choropleth": [
                      {
                        "colorbar": {
                          "outlinewidth": 0,
                          "ticks": ""
                        },
                        "type": "choropleth"
                      }
                    ],
                    "contour": [
                      {
                        "colorbar": {
                          "outlinewidth": 0,
                          "ticks": ""
                        },
                        "colorscale": [
                          [
                            0,
                            "#0d0887"
                          ],
                          [
                            0.1111111111111111,
                            "#46039f"
                          ],
                          [
                            0.2222222222222222,
                            "#7201a8"
                          ],
                          [
                            0.3333333333333333,
                            "#9c179e"
                          ],
                          [
                            0.4444444444444444,
                            "#bd3786"
                          ],
                          [
                            0.5555555555555556,
                            "#d8576b"
                          ],
                          [
                            0.6666666666666666,
                            "#ed7953"
                          ],
                          [
                            0.7777777777777778,
                            "#fb9f3a"
                          ],
                          [
                            0.8888888888888888,
                            "#fdca26"
                          ],
                          [
                            1,
                            "#f0f921"
                          ]
                        ],
                        "type": "contour"
                      }
                    ],
                    "contourcarpet": [
                      {
                        "colorbar": {
                          "outlinewidth": 0,
                          "ticks": ""
                        },
                        "type": "contourcarpet"
                      }
                    ],
                    "heatmap": [
                      {
                        "colorbar": {
                          "outlinewidth": 0,
                          "ticks": ""
                        },
                        "colorscale": [
                          [
                            0,
                            "#0d0887"
                          ],
                          [
                            0.1111111111111111,
                            "#46039f"
                          ],
                          [
                            0.2222222222222222,
                            "#7201a8"
                          ],
                          [
                            0.3333333333333333,
                            "#9c179e"
                          ],
                          [
                            0.4444444444444444,
                            "#bd3786"
                          ],
                          [
                            0.5555555555555556,
                            "#d8576b"
                          ],
                          [
                            0.6666666666666666,
                            "#ed7953"
                          ],
                          [
                            0.7777777777777778,
                            "#fb9f3a"
                          ],
                          [
                            0.8888888888888888,
                            "#fdca26"
                          ],
                          [
                            1,
                            "#f0f921"
                          ]
                        ],
                        "type": "heatmap"
                      }
                    ],
                    "heatmapgl": [
                      {
                        "colorbar": {
                          "outlinewidth": 0,
                          "ticks": ""
                        },
                        "colorscale": [
                          [
                            0,
                            "#0d0887"
                          ],
                          [
                            0.1111111111111111,
                            "#46039f"
                          ],
                          [
                            0.2222222222222222,
                            "#7201a8"
                          ],
                          [
                            0.3333333333333333,
                            "#9c179e"
                          ],
                          [
                            0.4444444444444444,
                            "#bd3786"
                          ],
                          [
                            0.5555555555555556,
                            "#d8576b"
                          ],
                          [
                            0.6666666666666666,
                            "#ed7953"
                          ],
                          [
                            0.7777777777777778,
                            "#fb9f3a"
                          ],
                          [
                            0.8888888888888888,
                            "#fdca26"
                          ],
                          [
                            1,
                            "#f0f921"
                          ]
                        ],
                        "type": "heatmapgl"
                      }
                    ],
                    "histogram": [
                      {
                        "marker": {
                          "pattern": {
                            "fillmode": "overlay",
                            "size": 10,
                            "solidity": 0.2
                          }
                        },
                        "type": "histogram"
                      }
                    ],
                    "histogram2d": [
                      {
                        "colorbar": {
                          "outlinewidth": 0,
                          "ticks": ""
                        },
                        "colorscale": [
                          [
                            0,
                            "#0d0887"
                          ],
                          [
                            0.1111111111111111,
                            "#46039f"
                          ],
                          [
                            0.2222222222222222,
                            "#7201a8"
                          ],
                          [
                            0.3333333333333333,
                            "#9c179e"
                          ],
                          [
                            0.4444444444444444,
                            "#bd3786"
                          ],
                          [
                            0.5555555555555556,
                            "#d8576b"
                          ],
                          [
                            0.6666666666666666,
                            "#ed7953"
                          ],
                          [
                            0.7777777777777778,
                            "#fb9f3a"
                          ],
                          [
                            0.8888888888888888,
                            "#fdca26"
                          ],
                          [
                            1,
                            "#f0f921"
                          ]
                        ],
                        "type": "histogram2d"
                      }
                    ],
                    "histogram2dcontour": [
                      {
                        "colorbar": {
                          "outlinewidth": 0,
                          "ticks": ""
                        },
                        "colorscale": [
                          [
                            0,
                            "#0d0887"
                          ],
                          [
                            0.1111111111111111,
                            "#46039f"
                          ],
                          [
                            0.2222222222222222,
                            "#7201a8"
                          ],
                          [
                            0.3333333333333333,
                            "#9c179e"
                          ],
                          [
                            0.4444444444444444,
                            "#bd3786"
                          ],
                          [
                            0.5555555555555556,
                            "#d8576b"
                          ],
                          [
                            0.6666666666666666,
                            "#ed7953"
                          ],
                          [
                            0.7777777777777778,
                            "#fb9f3a"
                          ],
                          [
                            0.8888888888888888,
                            "#fdca26"
                          ],
                          [
                            1,
                            "#f0f921"
                          ]
                        ],
                        "type": "histogram2dcontour"
                      }
                    ],
                    "mesh3d": [
                      {
                        "colorbar": {
                          "outlinewidth": 0,
                          "ticks": ""
                        },
                        "type": "mesh3d"
                      }
                    ],
                    "parcoords": [
                      {
                        "line": {
                          "colorbar": {
                            "outlinewidth": 0,
                            "ticks": ""
                          }
                        },
                        "type": "parcoords"
                      }
                    ],
                    "pie": [
                      {
                        "automargin": true,
                        "type": "pie"
                      }
                    ],
                    "scatter": [
                      {
                        "fillpattern": {
                          "fillmode": "overlay",
                          "size": 10,
                          "solidity": 0.2
                        },
                        "type": "scatter"
                      }
                    ],
                    "scatter3d": [
                      {
                        "line": {
                          "colorbar": {
                            "outlinewidth": 0,
                            "ticks": ""
                          }
                        },
                        "marker": {
                          "colorbar": {
                            "outlinewidth": 0,
                            "ticks": ""
                          }
                        },
                        "type": "scatter3d"
                      }
                    ],
                    "scattercarpet": [
                      {
                        "marker": {
                          "colorbar": {
                            "outlinewidth": 0,
                            "ticks": ""
                          }
                        },
                        "type": "scattercarpet"
                      }
                    ],
                    "scattergeo": [
                      {
                        "marker": {
                          "colorbar": {
                            "outlinewidth": 0,
                            "ticks": ""
                          }
                        },
                        "type": "scattergeo"
                      }
                    ],
                    "scattergl": [
                      {
                        "marker": {
                          "colorbar": {
                            "outlinewidth": 0,
                            "ticks": ""
                          }
                        },
                        "type": "scattergl"
                      }
                    ],
                    "scattermapbox": [
                      {
                        "marker": {
                          "colorbar": {
                            "outlinewidth": 0,
                            "ticks": ""
                          }
                        },
                        "type": "scattermapbox"
                      }
                    ],
                    "scatterpolar": [
                      {
                        "marker": {
                          "colorbar": {
                            "outlinewidth": 0,
                            "ticks": ""
                          }
                        },
                        "type": "scatterpolar"
                      }
                    ],
                    "scatterpolargl": [
                      {
                        "marker": {
                          "colorbar": {
                            "outlinewidth": 0,
                            "ticks": ""
                          }
                        },
                        "type": "scatterpolargl"
                      }
                    ],
                    "scatterternary": [
                      {
                        "marker": {
                          "colorbar": {
                            "outlinewidth": 0,
                            "ticks": ""
                          }
                        },
                        "type": "scatterternary"
                      }
                    ],
                    "surface": [
                      {
                        "colorbar": {
                          "outlinewidth": 0,
                          "ticks": ""
                        },
                        "colorscale": [
                          [
                            0,
                            "#0d0887"
                          ],
                          [
                            0.1111111111111111,
                            "#46039f"
                          ],
                          [
                            0.2222222222222222,
                            "#7201a8"
                          ],
                          [
                            0.3333333333333333,
                            "#9c179e"
                          ],
                          [
                            0.4444444444444444,
                            "#bd3786"
                          ],
                          [
                            0.5555555555555556,
                            "#d8576b"
                          ],
                          [
                            0.6666666666666666,
                            "#ed7953"
                          ],
                          [
                            0.7777777777777778,
                            "#fb9f3a"
                          ],
                          [
                            0.8888888888888888,
                            "#fdca26"
                          ],
                          [
                            1,
                            "#f0f921"
                          ]
                        ],
                        "type": "surface"
                      }
                    ],
                    "table": [
                      {
                        "cells": {
                          "fill": {
                            "color": "#EBF0F8"
                          },
                          "line": {
                            "color": "white"
                          }
                        },
                        "header": {
                          "fill": {
                            "color": "#C8D4E3"
                          },
                          "line": {
                            "color": "white"
                          }
                        },
                        "type": "table"
                      }
                    ]
                  },
                  "layout": {
                    "annotationdefaults": {
                      "arrowcolor": "#2a3f5f",
                      "arrowhead": 0,
                      "arrowwidth": 1
                    },
                    "autotypenumbers": "strict",
                    "coloraxis": {
                      "colorbar": {
                        "outlinewidth": 0,
                        "ticks": ""
                      }
                    },
                    "colorscale": {
                      "diverging": [
                        [
                          0,
                          "#8e0152"
                        ],
                        [
                          0.1,
                          "#c51b7d"
                        ],
                        [
                          0.2,
                          "#de77ae"
                        ],
                        [
                          0.3,
                          "#f1b6da"
                        ],
                        [
                          0.4,
                          "#fde0ef"
                        ],
                        [
                          0.5,
                          "#f7f7f7"
                        ],
                        [
                          0.6,
                          "#e6f5d0"
                        ],
                        [
                          0.7,
                          "#b8e186"
                        ],
                        [
                          0.8,
                          "#7fbc41"
                        ],
                        [
                          0.9,
                          "#4d9221"
                        ],
                        [
                          1,
                          "#276419"
                        ]
                      ],
                      "sequential": [
                        [
                          0,
                          "#0d0887"
                        ],
                        [
                          0.1111111111111111,
                          "#46039f"
                        ],
                        [
                          0.2222222222222222,
                          "#7201a8"
                        ],
                        [
                          0.3333333333333333,
                          "#9c179e"
                        ],
                        [
                          0.4444444444444444,
                          "#bd3786"
                        ],
                        [
                          0.5555555555555556,
                          "#d8576b"
                        ],
                        [
                          0.6666666666666666,
                          "#ed7953"
                        ],
                        [
                          0.7777777777777778,
                          "#fb9f3a"
                        ],
                        [
                          0.8888888888888888,
                          "#fdca26"
                        ],
                        [
                          1,
                          "#f0f921"
                        ]
                      ],
                      "sequentialminus": [
                        [
                          0,
                          "#0d0887"
                        ],
                        [
                          0.1111111111111111,
                          "#46039f"
                        ],
                        [
                          0.2222222222222222,
                          "#7201a8"
                        ],
                        [
                          0.3333333333333333,
                          "#9c179e"
                        ],
                        [
                          0.4444444444444444,
                          "#bd3786"
                        ],
                        [
                          0.5555555555555556,
                          "#d8576b"
                        ],
                        [
                          0.6666666666666666,
                          "#ed7953"
                        ],
                        [
                          0.7777777777777778,
                          "#fb9f3a"
                        ],
                        [
                          0.8888888888888888,
                          "#fdca26"
                        ],
                        [
                          1,
                          "#f0f921"
                        ]
                      ]
                    },
                    "colorway": [
                      "#636efa",
                      "#EF553B",
                      "#00cc96",
                      "#ab63fa",
                      "#FFA15A",
                      "#19d3f3",
                      "#FF6692",
                      "#B6E880",
                      "#FF97FF",
                      "#FECB52"
                    ],
                    "font": {
                      "color": "#2a3f5f"
                    },
                    "geo": {
                      "bgcolor": "white",
                      "lakecolor": "white",
                      "landcolor": "#E5ECF6",
                      "showlakes": true,
                      "showland": true,
                      "subunitcolor": "white"
                    },
                    "hoverlabel": {
                      "align": "left"
                    },
                    "hovermode": "closest",
                    "mapbox": {
                      "style": "light"
                    },
                    "paper_bgcolor": "white",
                    "plot_bgcolor": "#E5ECF6",
                    "polar": {
                      "angularaxis": {
                        "gridcolor": "white",
                        "linecolor": "white",
                        "ticks": ""
                      },
                      "bgcolor": "#E5ECF6",
                      "radialaxis": {
                        "gridcolor": "white",
                        "linecolor": "white",
                        "ticks": ""
                      }
                    },
                    "scene": {
                      "xaxis": {
                        "backgroundcolor": "#E5ECF6",
                        "gridcolor": "white",
                        "gridwidth": 2,
                        "linecolor": "white",
                        "showbackground": true,
                        "ticks": "",
                        "zerolinecolor": "white"
                      },
                      "yaxis": {
                        "backgroundcolor": "#E5ECF6",
                        "gridcolor": "white",
                        "gridwidth": 2,
                        "linecolor": "white",
                        "showbackground": true,
                        "ticks": "",
                        "zerolinecolor": "white"
                      },
                      "zaxis": {
                        "backgroundcolor": "#E5ECF6",
                        "gridcolor": "white",
                        "gridwidth": 2,
                        "linecolor": "white",
                        "showbackground": true,
                        "ticks": "",
                        "zerolinecolor": "white"
                      }
                    },
                    "shapedefaults": {
                      "line": {
                        "color": "#2a3f5f"
                      }
                    },
                    "ternary": {
                      "aaxis": {
                        "gridcolor": "white",
                        "linecolor": "white",
                        "ticks": ""
                      },
                      "baxis": {
                        "gridcolor": "white",
                        "linecolor": "white",
                        "ticks": ""
                      },
                      "bgcolor": "#E5ECF6",
                      "caxis": {
                        "gridcolor": "white",
                        "linecolor": "white",
                        "ticks": ""
                      }
                    },
                    "title": {
                      "x": 0.05
                    },
                    "xaxis": {
                      "automargin": true,
                      "gridcolor": "white",
                      "linecolor": "white",
                      "ticks": "",
                      "title": {
                        "standoff": 15
                      },
                      "zerolinecolor": "white",
                      "zerolinewidth": 2
                    },
                    "yaxis": {
                      "automargin": true,
                      "gridcolor": "white",
                      "linecolor": "white",
                      "ticks": "",
                      "title": {
                        "standoff": 15
                      },
                      "zerolinecolor": "white",
                      "zerolinewidth": 2
                    }
                  }
                },
                "xaxis": {
                  "anchor": "y",
                  "domain": [
                    0,
                    1
                  ],
                  "title": {
                    "text": "bandeira"
                  }
                },
                "yaxis": {
                  "anchor": "x",
                  "domain": [
                    0,
                    1
                  ],
                  "title": {
                    "text": "idade"
                  }
                }
              }
            }
          },
          "metadata": {},
          "output_type": "display_data"
        }
      ],
      "source": [
        "px.bar(media_idade, x = 'bandeira', y = 'idade')"
      ]
    },
    {
      "cell_type": "markdown",
      "metadata": {
        "id": "ETbJnNHeN0LM"
      },
      "source": [
        "#### Gráfico de quantidade de vendas por data"
      ]
    },
    {
      "cell_type": "code",
      "execution_count": 87,
      "metadata": {
        "colab": {
          "base_uri": "https://localhost:8080/",
          "height": 542
        },
        "id": "0geLIkY-Ncph",
        "outputId": "33258d60-6a2c-45a1-f80f-3ae86cf3d4a6"
      },
      "outputs": [
        {
          "data": {
            "application/vnd.plotly.v1+json": {
              "config": {
                "plotlyServerURL": "https://plot.ly"
              },
              "data": [
                {
                  "hovertemplate": "Data=%{x}<br>idcompra=%{y}<extra></extra>",
                  "legendgroup": "",
                  "line": {
                    "color": "#636efa",
                    "dash": "solid"
                  },
                  "marker": {
                    "symbol": "circle"
                  },
                  "mode": "lines",
                  "name": "",
                  "orientation": "v",
                  "showlegend": false,
                  "type": "scatter",
                  "x": [
                    "2023-01-02T00:00:00",
                    "2023-01-03T00:00:00",
                    "2023-01-04T00:00:00",
                    "2023-01-05T00:00:00",
                    "2023-01-06T00:00:00",
                    "2023-01-07T00:00:00",
                    "2023-01-08T00:00:00",
                    "2023-01-09T00:00:00",
                    "2023-01-10T00:00:00",
                    "2023-01-11T00:00:00",
                    "2023-01-12T00:00:00",
                    "2023-01-13T00:00:00",
                    "2023-01-14T00:00:00",
                    "2023-01-15T00:00:00",
                    "2023-01-16T00:00:00",
                    "2023-01-17T00:00:00",
                    "2023-01-18T00:00:00",
                    "2023-01-19T00:00:00",
                    "2023-01-20T00:00:00",
                    "2023-01-21T00:00:00",
                    "2023-01-22T00:00:00",
                    "2023-01-23T00:00:00",
                    "2023-01-24T00:00:00",
                    "2023-01-25T00:00:00",
                    "2023-01-26T00:00:00",
                    "2023-01-27T00:00:00",
                    "2023-01-28T00:00:00",
                    "2023-01-29T00:00:00",
                    "2023-01-30T00:00:00",
                    "2023-01-31T00:00:00",
                    "2023-02-01T00:00:00",
                    "2023-02-02T00:00:00",
                    "2023-02-03T00:00:00",
                    "2023-02-04T00:00:00",
                    "2023-02-05T00:00:00",
                    "2023-02-06T00:00:00",
                    "2023-02-07T00:00:00",
                    "2023-02-08T00:00:00",
                    "2023-02-09T00:00:00",
                    "2023-02-10T00:00:00",
                    "2023-02-11T00:00:00",
                    "2023-02-12T00:00:00",
                    "2023-02-13T00:00:00",
                    "2023-02-14T00:00:00",
                    "2023-02-15T00:00:00",
                    "2023-02-16T00:00:00",
                    "2023-02-17T00:00:00",
                    "2023-02-18T00:00:00",
                    "2023-02-19T00:00:00",
                    "2023-02-20T00:00:00",
                    "2023-02-21T00:00:00",
                    "2023-02-22T00:00:00",
                    "2023-02-23T00:00:00",
                    "2023-02-24T00:00:00",
                    "2023-02-25T00:00:00",
                    "2023-02-26T00:00:00",
                    "2023-02-27T00:00:00",
                    "2023-02-28T00:00:00",
                    "2023-03-01T00:00:00",
                    "2023-03-02T00:00:00",
                    "2023-03-03T00:00:00",
                    "2023-03-04T00:00:00",
                    "2023-03-05T00:00:00",
                    "2023-03-06T00:00:00",
                    "2023-03-07T00:00:00",
                    "2023-03-08T00:00:00",
                    "2023-03-09T00:00:00",
                    "2023-03-10T00:00:00",
                    "2023-03-11T00:00:00",
                    "2023-03-12T00:00:00",
                    "2023-03-13T00:00:00",
                    "2023-03-14T00:00:00",
                    "2023-03-15T00:00:00",
                    "2023-03-16T00:00:00",
                    "2023-03-17T00:00:00",
                    "2023-03-18T00:00:00",
                    "2023-03-19T00:00:00",
                    "2023-03-20T00:00:00",
                    "2023-03-21T00:00:00",
                    "2023-03-22T00:00:00",
                    "2023-03-23T00:00:00",
                    "2023-03-24T00:00:00",
                    "2023-03-25T00:00:00",
                    "2023-03-26T00:00:00",
                    "2023-03-27T00:00:00",
                    "2023-03-28T00:00:00",
                    "2023-03-29T00:00:00",
                    "2023-03-30T00:00:00",
                    "2023-03-31T00:00:00",
                    "2023-04-01T00:00:00",
                    "2023-04-02T00:00:00",
                    "2023-04-03T00:00:00",
                    "2023-04-04T00:00:00",
                    "2023-04-05T00:00:00",
                    "2023-04-06T00:00:00",
                    "2023-04-07T00:00:00",
                    "2023-04-08T00:00:00",
                    "2023-04-09T00:00:00",
                    "2023-04-10T00:00:00",
                    "2023-04-11T00:00:00",
                    "2023-04-12T00:00:00",
                    "2023-04-13T00:00:00",
                    "2023-04-14T00:00:00",
                    "2023-04-15T00:00:00",
                    "2023-04-16T00:00:00",
                    "2023-04-17T00:00:00",
                    "2023-04-18T00:00:00",
                    "2023-04-19T00:00:00",
                    "2023-04-20T00:00:00",
                    "2023-04-21T00:00:00",
                    "2023-04-22T00:00:00",
                    "2023-04-23T00:00:00",
                    "2023-04-24T00:00:00",
                    "2023-04-25T00:00:00",
                    "2023-04-26T00:00:00",
                    "2023-04-27T00:00:00",
                    "2023-04-28T00:00:00",
                    "2023-04-29T00:00:00",
                    "2023-04-30T00:00:00"
                  ],
                  "xaxis": "x",
                  "y": [
                    193,
                    163,
                    189,
                    204,
                    198,
                    175,
                    190,
                    187,
                    181,
                    164,
                    167,
                    189,
                    177,
                    162,
                    181,
                    168,
                    175,
                    179,
                    218,
                    187,
                    191,
                    163,
                    187,
                    193,
                    169,
                    207,
                    174,
                    163,
                    174,
                    190,
                    186,
                    183,
                    194,
                    195,
                    195,
                    184,
                    181,
                    163,
                    209,
                    209,
                    187,
                    152,
                    226,
                    181,
                    162,
                    178,
                    177,
                    200,
                    182,
                    214,
                    198,
                    156,
                    209,
                    212,
                    161,
                    195,
                    191,
                    186,
                    170,
                    189,
                    181,
                    191,
                    163,
                    198,
                    215,
                    191,
                    191,
                    195,
                    166,
                    199,
                    186,
                    204,
                    183,
                    188,
                    184,
                    187,
                    179,
                    182,
                    166,
                    171,
                    171,
                    194,
                    184,
                    194,
                    191,
                    162,
                    171,
                    214,
                    173,
                    191,
                    167,
                    179,
                    162,
                    191,
                    190,
                    195,
                    180,
                    182,
                    207,
                    184,
                    170,
                    188,
                    162,
                    182,
                    201,
                    202,
                    178,
                    198,
                    187,
                    170,
                    182,
                    178,
                    197,
                    183,
                    201,
                    212,
                    192,
                    187,
                    192
                  ],
                  "yaxis": "y"
                }
              ],
              "layout": {
                "legend": {
                  "tracegroupgap": 0
                },
                "margin": {
                  "t": 60
                },
                "template": {
                  "data": {
                    "bar": [
                      {
                        "error_x": {
                          "color": "#2a3f5f"
                        },
                        "error_y": {
                          "color": "#2a3f5f"
                        },
                        "marker": {
                          "line": {
                            "color": "#E5ECF6",
                            "width": 0.5
                          },
                          "pattern": {
                            "fillmode": "overlay",
                            "size": 10,
                            "solidity": 0.2
                          }
                        },
                        "type": "bar"
                      }
                    ],
                    "barpolar": [
                      {
                        "marker": {
                          "line": {
                            "color": "#E5ECF6",
                            "width": 0.5
                          },
                          "pattern": {
                            "fillmode": "overlay",
                            "size": 10,
                            "solidity": 0.2
                          }
                        },
                        "type": "barpolar"
                      }
                    ],
                    "carpet": [
                      {
                        "aaxis": {
                          "endlinecolor": "#2a3f5f",
                          "gridcolor": "white",
                          "linecolor": "white",
                          "minorgridcolor": "white",
                          "startlinecolor": "#2a3f5f"
                        },
                        "baxis": {
                          "endlinecolor": "#2a3f5f",
                          "gridcolor": "white",
                          "linecolor": "white",
                          "minorgridcolor": "white",
                          "startlinecolor": "#2a3f5f"
                        },
                        "type": "carpet"
                      }
                    ],
                    "choropleth": [
                      {
                        "colorbar": {
                          "outlinewidth": 0,
                          "ticks": ""
                        },
                        "type": "choropleth"
                      }
                    ],
                    "contour": [
                      {
                        "colorbar": {
                          "outlinewidth": 0,
                          "ticks": ""
                        },
                        "colorscale": [
                          [
                            0,
                            "#0d0887"
                          ],
                          [
                            0.1111111111111111,
                            "#46039f"
                          ],
                          [
                            0.2222222222222222,
                            "#7201a8"
                          ],
                          [
                            0.3333333333333333,
                            "#9c179e"
                          ],
                          [
                            0.4444444444444444,
                            "#bd3786"
                          ],
                          [
                            0.5555555555555556,
                            "#d8576b"
                          ],
                          [
                            0.6666666666666666,
                            "#ed7953"
                          ],
                          [
                            0.7777777777777778,
                            "#fb9f3a"
                          ],
                          [
                            0.8888888888888888,
                            "#fdca26"
                          ],
                          [
                            1,
                            "#f0f921"
                          ]
                        ],
                        "type": "contour"
                      }
                    ],
                    "contourcarpet": [
                      {
                        "colorbar": {
                          "outlinewidth": 0,
                          "ticks": ""
                        },
                        "type": "contourcarpet"
                      }
                    ],
                    "heatmap": [
                      {
                        "colorbar": {
                          "outlinewidth": 0,
                          "ticks": ""
                        },
                        "colorscale": [
                          [
                            0,
                            "#0d0887"
                          ],
                          [
                            0.1111111111111111,
                            "#46039f"
                          ],
                          [
                            0.2222222222222222,
                            "#7201a8"
                          ],
                          [
                            0.3333333333333333,
                            "#9c179e"
                          ],
                          [
                            0.4444444444444444,
                            "#bd3786"
                          ],
                          [
                            0.5555555555555556,
                            "#d8576b"
                          ],
                          [
                            0.6666666666666666,
                            "#ed7953"
                          ],
                          [
                            0.7777777777777778,
                            "#fb9f3a"
                          ],
                          [
                            0.8888888888888888,
                            "#fdca26"
                          ],
                          [
                            1,
                            "#f0f921"
                          ]
                        ],
                        "type": "heatmap"
                      }
                    ],
                    "heatmapgl": [
                      {
                        "colorbar": {
                          "outlinewidth": 0,
                          "ticks": ""
                        },
                        "colorscale": [
                          [
                            0,
                            "#0d0887"
                          ],
                          [
                            0.1111111111111111,
                            "#46039f"
                          ],
                          [
                            0.2222222222222222,
                            "#7201a8"
                          ],
                          [
                            0.3333333333333333,
                            "#9c179e"
                          ],
                          [
                            0.4444444444444444,
                            "#bd3786"
                          ],
                          [
                            0.5555555555555556,
                            "#d8576b"
                          ],
                          [
                            0.6666666666666666,
                            "#ed7953"
                          ],
                          [
                            0.7777777777777778,
                            "#fb9f3a"
                          ],
                          [
                            0.8888888888888888,
                            "#fdca26"
                          ],
                          [
                            1,
                            "#f0f921"
                          ]
                        ],
                        "type": "heatmapgl"
                      }
                    ],
                    "histogram": [
                      {
                        "marker": {
                          "pattern": {
                            "fillmode": "overlay",
                            "size": 10,
                            "solidity": 0.2
                          }
                        },
                        "type": "histogram"
                      }
                    ],
                    "histogram2d": [
                      {
                        "colorbar": {
                          "outlinewidth": 0,
                          "ticks": ""
                        },
                        "colorscale": [
                          [
                            0,
                            "#0d0887"
                          ],
                          [
                            0.1111111111111111,
                            "#46039f"
                          ],
                          [
                            0.2222222222222222,
                            "#7201a8"
                          ],
                          [
                            0.3333333333333333,
                            "#9c179e"
                          ],
                          [
                            0.4444444444444444,
                            "#bd3786"
                          ],
                          [
                            0.5555555555555556,
                            "#d8576b"
                          ],
                          [
                            0.6666666666666666,
                            "#ed7953"
                          ],
                          [
                            0.7777777777777778,
                            "#fb9f3a"
                          ],
                          [
                            0.8888888888888888,
                            "#fdca26"
                          ],
                          [
                            1,
                            "#f0f921"
                          ]
                        ],
                        "type": "histogram2d"
                      }
                    ],
                    "histogram2dcontour": [
                      {
                        "colorbar": {
                          "outlinewidth": 0,
                          "ticks": ""
                        },
                        "colorscale": [
                          [
                            0,
                            "#0d0887"
                          ],
                          [
                            0.1111111111111111,
                            "#46039f"
                          ],
                          [
                            0.2222222222222222,
                            "#7201a8"
                          ],
                          [
                            0.3333333333333333,
                            "#9c179e"
                          ],
                          [
                            0.4444444444444444,
                            "#bd3786"
                          ],
                          [
                            0.5555555555555556,
                            "#d8576b"
                          ],
                          [
                            0.6666666666666666,
                            "#ed7953"
                          ],
                          [
                            0.7777777777777778,
                            "#fb9f3a"
                          ],
                          [
                            0.8888888888888888,
                            "#fdca26"
                          ],
                          [
                            1,
                            "#f0f921"
                          ]
                        ],
                        "type": "histogram2dcontour"
                      }
                    ],
                    "mesh3d": [
                      {
                        "colorbar": {
                          "outlinewidth": 0,
                          "ticks": ""
                        },
                        "type": "mesh3d"
                      }
                    ],
                    "parcoords": [
                      {
                        "line": {
                          "colorbar": {
                            "outlinewidth": 0,
                            "ticks": ""
                          }
                        },
                        "type": "parcoords"
                      }
                    ],
                    "pie": [
                      {
                        "automargin": true,
                        "type": "pie"
                      }
                    ],
                    "scatter": [
                      {
                        "fillpattern": {
                          "fillmode": "overlay",
                          "size": 10,
                          "solidity": 0.2
                        },
                        "type": "scatter"
                      }
                    ],
                    "scatter3d": [
                      {
                        "line": {
                          "colorbar": {
                            "outlinewidth": 0,
                            "ticks": ""
                          }
                        },
                        "marker": {
                          "colorbar": {
                            "outlinewidth": 0,
                            "ticks": ""
                          }
                        },
                        "type": "scatter3d"
                      }
                    ],
                    "scattercarpet": [
                      {
                        "marker": {
                          "colorbar": {
                            "outlinewidth": 0,
                            "ticks": ""
                          }
                        },
                        "type": "scattercarpet"
                      }
                    ],
                    "scattergeo": [
                      {
                        "marker": {
                          "colorbar": {
                            "outlinewidth": 0,
                            "ticks": ""
                          }
                        },
                        "type": "scattergeo"
                      }
                    ],
                    "scattergl": [
                      {
                        "marker": {
                          "colorbar": {
                            "outlinewidth": 0,
                            "ticks": ""
                          }
                        },
                        "type": "scattergl"
                      }
                    ],
                    "scattermapbox": [
                      {
                        "marker": {
                          "colorbar": {
                            "outlinewidth": 0,
                            "ticks": ""
                          }
                        },
                        "type": "scattermapbox"
                      }
                    ],
                    "scatterpolar": [
                      {
                        "marker": {
                          "colorbar": {
                            "outlinewidth": 0,
                            "ticks": ""
                          }
                        },
                        "type": "scatterpolar"
                      }
                    ],
                    "scatterpolargl": [
                      {
                        "marker": {
                          "colorbar": {
                            "outlinewidth": 0,
                            "ticks": ""
                          }
                        },
                        "type": "scatterpolargl"
                      }
                    ],
                    "scatterternary": [
                      {
                        "marker": {
                          "colorbar": {
                            "outlinewidth": 0,
                            "ticks": ""
                          }
                        },
                        "type": "scatterternary"
                      }
                    ],
                    "surface": [
                      {
                        "colorbar": {
                          "outlinewidth": 0,
                          "ticks": ""
                        },
                        "colorscale": [
                          [
                            0,
                            "#0d0887"
                          ],
                          [
                            0.1111111111111111,
                            "#46039f"
                          ],
                          [
                            0.2222222222222222,
                            "#7201a8"
                          ],
                          [
                            0.3333333333333333,
                            "#9c179e"
                          ],
                          [
                            0.4444444444444444,
                            "#bd3786"
                          ],
                          [
                            0.5555555555555556,
                            "#d8576b"
                          ],
                          [
                            0.6666666666666666,
                            "#ed7953"
                          ],
                          [
                            0.7777777777777778,
                            "#fb9f3a"
                          ],
                          [
                            0.8888888888888888,
                            "#fdca26"
                          ],
                          [
                            1,
                            "#f0f921"
                          ]
                        ],
                        "type": "surface"
                      }
                    ],
                    "table": [
                      {
                        "cells": {
                          "fill": {
                            "color": "#EBF0F8"
                          },
                          "line": {
                            "color": "white"
                          }
                        },
                        "header": {
                          "fill": {
                            "color": "#C8D4E3"
                          },
                          "line": {
                            "color": "white"
                          }
                        },
                        "type": "table"
                      }
                    ]
                  },
                  "layout": {
                    "annotationdefaults": {
                      "arrowcolor": "#2a3f5f",
                      "arrowhead": 0,
                      "arrowwidth": 1
                    },
                    "autotypenumbers": "strict",
                    "coloraxis": {
                      "colorbar": {
                        "outlinewidth": 0,
                        "ticks": ""
                      }
                    },
                    "colorscale": {
                      "diverging": [
                        [
                          0,
                          "#8e0152"
                        ],
                        [
                          0.1,
                          "#c51b7d"
                        ],
                        [
                          0.2,
                          "#de77ae"
                        ],
                        [
                          0.3,
                          "#f1b6da"
                        ],
                        [
                          0.4,
                          "#fde0ef"
                        ],
                        [
                          0.5,
                          "#f7f7f7"
                        ],
                        [
                          0.6,
                          "#e6f5d0"
                        ],
                        [
                          0.7,
                          "#b8e186"
                        ],
                        [
                          0.8,
                          "#7fbc41"
                        ],
                        [
                          0.9,
                          "#4d9221"
                        ],
                        [
                          1,
                          "#276419"
                        ]
                      ],
                      "sequential": [
                        [
                          0,
                          "#0d0887"
                        ],
                        [
                          0.1111111111111111,
                          "#46039f"
                        ],
                        [
                          0.2222222222222222,
                          "#7201a8"
                        ],
                        [
                          0.3333333333333333,
                          "#9c179e"
                        ],
                        [
                          0.4444444444444444,
                          "#bd3786"
                        ],
                        [
                          0.5555555555555556,
                          "#d8576b"
                        ],
                        [
                          0.6666666666666666,
                          "#ed7953"
                        ],
                        [
                          0.7777777777777778,
                          "#fb9f3a"
                        ],
                        [
                          0.8888888888888888,
                          "#fdca26"
                        ],
                        [
                          1,
                          "#f0f921"
                        ]
                      ],
                      "sequentialminus": [
                        [
                          0,
                          "#0d0887"
                        ],
                        [
                          0.1111111111111111,
                          "#46039f"
                        ],
                        [
                          0.2222222222222222,
                          "#7201a8"
                        ],
                        [
                          0.3333333333333333,
                          "#9c179e"
                        ],
                        [
                          0.4444444444444444,
                          "#bd3786"
                        ],
                        [
                          0.5555555555555556,
                          "#d8576b"
                        ],
                        [
                          0.6666666666666666,
                          "#ed7953"
                        ],
                        [
                          0.7777777777777778,
                          "#fb9f3a"
                        ],
                        [
                          0.8888888888888888,
                          "#fdca26"
                        ],
                        [
                          1,
                          "#f0f921"
                        ]
                      ]
                    },
                    "colorway": [
                      "#636efa",
                      "#EF553B",
                      "#00cc96",
                      "#ab63fa",
                      "#FFA15A",
                      "#19d3f3",
                      "#FF6692",
                      "#B6E880",
                      "#FF97FF",
                      "#FECB52"
                    ],
                    "font": {
                      "color": "#2a3f5f"
                    },
                    "geo": {
                      "bgcolor": "white",
                      "lakecolor": "white",
                      "landcolor": "#E5ECF6",
                      "showlakes": true,
                      "showland": true,
                      "subunitcolor": "white"
                    },
                    "hoverlabel": {
                      "align": "left"
                    },
                    "hovermode": "closest",
                    "mapbox": {
                      "style": "light"
                    },
                    "paper_bgcolor": "white",
                    "plot_bgcolor": "#E5ECF6",
                    "polar": {
                      "angularaxis": {
                        "gridcolor": "white",
                        "linecolor": "white",
                        "ticks": ""
                      },
                      "bgcolor": "#E5ECF6",
                      "radialaxis": {
                        "gridcolor": "white",
                        "linecolor": "white",
                        "ticks": ""
                      }
                    },
                    "scene": {
                      "xaxis": {
                        "backgroundcolor": "#E5ECF6",
                        "gridcolor": "white",
                        "gridwidth": 2,
                        "linecolor": "white",
                        "showbackground": true,
                        "ticks": "",
                        "zerolinecolor": "white"
                      },
                      "yaxis": {
                        "backgroundcolor": "#E5ECF6",
                        "gridcolor": "white",
                        "gridwidth": 2,
                        "linecolor": "white",
                        "showbackground": true,
                        "ticks": "",
                        "zerolinecolor": "white"
                      },
                      "zaxis": {
                        "backgroundcolor": "#E5ECF6",
                        "gridcolor": "white",
                        "gridwidth": 2,
                        "linecolor": "white",
                        "showbackground": true,
                        "ticks": "",
                        "zerolinecolor": "white"
                      }
                    },
                    "shapedefaults": {
                      "line": {
                        "color": "#2a3f5f"
                      }
                    },
                    "ternary": {
                      "aaxis": {
                        "gridcolor": "white",
                        "linecolor": "white",
                        "ticks": ""
                      },
                      "baxis": {
                        "gridcolor": "white",
                        "linecolor": "white",
                        "ticks": ""
                      },
                      "bgcolor": "#E5ECF6",
                      "caxis": {
                        "gridcolor": "white",
                        "linecolor": "white",
                        "ticks": ""
                      }
                    },
                    "title": {
                      "x": 0.05
                    },
                    "xaxis": {
                      "automargin": true,
                      "gridcolor": "white",
                      "linecolor": "white",
                      "ticks": "",
                      "title": {
                        "standoff": 15
                      },
                      "zerolinecolor": "white",
                      "zerolinewidth": 2
                    },
                    "yaxis": {
                      "automargin": true,
                      "gridcolor": "white",
                      "linecolor": "white",
                      "ticks": "",
                      "title": {
                        "standoff": 15
                      },
                      "zerolinecolor": "white",
                      "zerolinewidth": 2
                    }
                  }
                },
                "xaxis": {
                  "anchor": "y",
                  "domain": [
                    0,
                    1
                  ],
                  "title": {
                    "text": "Data"
                  }
                },
                "yaxis": {
                  "anchor": "x",
                  "domain": [
                    0,
                    1
                  ],
                  "title": {
                    "text": "idcompra"
                  }
                }
              }
            }
          },
          "metadata": {},
          "output_type": "display_data"
        }
      ],
      "source": [
        "px.line(vendas_por_data, x = 'Data', y = 'idcompra')"
      ]
    },
    {
      "cell_type": "markdown",
      "metadata": {
        "id": "1WkQaLhaOxJv"
      },
      "source": [
        "#### Gráfico de preço médio com frete por departamento"
      ]
    },
    {
      "cell_type": "code",
      "execution_count": 88,
      "metadata": {
        "colab": {
          "base_uri": "https://localhost:8080/",
          "height": 542
        },
        "id": "DSzNMuH8OG-f",
        "outputId": "2a490983-17b5-49a1-d618-fd88e323d938"
      },
      "outputs": [
        {
          "data": {
            "application/vnd.plotly.v1+json": {
              "config": {
                "plotlyServerURL": "https://plot.ly"
              },
              "data": [
                {
                  "alignmentgroup": "True",
                  "hovertemplate": "Nome_Departamento=%{x}<br>Preço_com_frete=%{y}<extra></extra>",
                  "legendgroup": "",
                  "marker": {
                    "color": "#636efa",
                    "pattern": {
                      "shape": ""
                    }
                  },
                  "name": "",
                  "offsetgroup": "",
                  "orientation": "v",
                  "showlegend": false,
                  "textposition": "auto",
                  "type": "bar",
                  "x": [
                    "TVs_e_Acessorios",
                    "Informatica",
                    "Linha_Industrial",
                    "Cine_e_Foto",
                    "Telefones_e_Celulares",
                    "Eletrodomesticos",
                    "Esporte_e_Lazer",
                    "Tablets",
                    "Games",
                    "Instrumentos_Musicais",
                    "Automotivo",
                    "Moveis",
                    "Ar_e_Ventilacao",
                    "Audio",
                    "Casa_e_Construcao",
                    "Pet_Shop",
                    "Acessorios_e_Inovacoes",
                    "Eletroportateis",
                    "Ferramentas",
                    "Cama,_Mesa_e_Banho",
                    "Malas_e_Mochilas",
                    "Relogios",
                    "Brinquedos",
                    "Utilidades_Domesticas",
                    "Decoracao",
                    "Bebes",
                    "Beleza_e_Saude",
                    "Alimentos",
                    "Perfumaria",
                    "Produtos_de_Limpeza",
                    "Moda"
                  ],
                  "xaxis": "x",
                  "y": [
                    3469.3781772151897,
                    2159.78261971831,
                    2027.1066666666666,
                    1851.1979999999999,
                    1442.1859070707071,
                    1400.6625961628451,
                    1123.1393825503355,
                    1100.233625,
                    942.8953600000001,
                    834.608,
                    681.5703355119825,
                    541.0261860691671,
                    518.7947138643069,
                    480.3458823529412,
                    433.52772413793105,
                    237.2554,
                    229.13619184652276,
                    223.7671178301467,
                    217.5893888888889,
                    210.7018591549296,
                    194.2589010989011,
                    186.9477333333333,
                    176.44788338192419,
                    155.02022335025381,
                    144.49625196850394,
                    130.89945863309353,
                    119.5863267233239,
                    104.236,
                    80.91428774422735,
                    68.79245977011493,
                    47.008
                  ],
                  "yaxis": "y"
                }
              ],
              "layout": {
                "barmode": "relative",
                "legend": {
                  "tracegroupgap": 0
                },
                "margin": {
                  "t": 60
                },
                "template": {
                  "data": {
                    "bar": [
                      {
                        "error_x": {
                          "color": "#2a3f5f"
                        },
                        "error_y": {
                          "color": "#2a3f5f"
                        },
                        "marker": {
                          "line": {
                            "color": "#E5ECF6",
                            "width": 0.5
                          },
                          "pattern": {
                            "fillmode": "overlay",
                            "size": 10,
                            "solidity": 0.2
                          }
                        },
                        "type": "bar"
                      }
                    ],
                    "barpolar": [
                      {
                        "marker": {
                          "line": {
                            "color": "#E5ECF6",
                            "width": 0.5
                          },
                          "pattern": {
                            "fillmode": "overlay",
                            "size": 10,
                            "solidity": 0.2
                          }
                        },
                        "type": "barpolar"
                      }
                    ],
                    "carpet": [
                      {
                        "aaxis": {
                          "endlinecolor": "#2a3f5f",
                          "gridcolor": "white",
                          "linecolor": "white",
                          "minorgridcolor": "white",
                          "startlinecolor": "#2a3f5f"
                        },
                        "baxis": {
                          "endlinecolor": "#2a3f5f",
                          "gridcolor": "white",
                          "linecolor": "white",
                          "minorgridcolor": "white",
                          "startlinecolor": "#2a3f5f"
                        },
                        "type": "carpet"
                      }
                    ],
                    "choropleth": [
                      {
                        "colorbar": {
                          "outlinewidth": 0,
                          "ticks": ""
                        },
                        "type": "choropleth"
                      }
                    ],
                    "contour": [
                      {
                        "colorbar": {
                          "outlinewidth": 0,
                          "ticks": ""
                        },
                        "colorscale": [
                          [
                            0,
                            "#0d0887"
                          ],
                          [
                            0.1111111111111111,
                            "#46039f"
                          ],
                          [
                            0.2222222222222222,
                            "#7201a8"
                          ],
                          [
                            0.3333333333333333,
                            "#9c179e"
                          ],
                          [
                            0.4444444444444444,
                            "#bd3786"
                          ],
                          [
                            0.5555555555555556,
                            "#d8576b"
                          ],
                          [
                            0.6666666666666666,
                            "#ed7953"
                          ],
                          [
                            0.7777777777777778,
                            "#fb9f3a"
                          ],
                          [
                            0.8888888888888888,
                            "#fdca26"
                          ],
                          [
                            1,
                            "#f0f921"
                          ]
                        ],
                        "type": "contour"
                      }
                    ],
                    "contourcarpet": [
                      {
                        "colorbar": {
                          "outlinewidth": 0,
                          "ticks": ""
                        },
                        "type": "contourcarpet"
                      }
                    ],
                    "heatmap": [
                      {
                        "colorbar": {
                          "outlinewidth": 0,
                          "ticks": ""
                        },
                        "colorscale": [
                          [
                            0,
                            "#0d0887"
                          ],
                          [
                            0.1111111111111111,
                            "#46039f"
                          ],
                          [
                            0.2222222222222222,
                            "#7201a8"
                          ],
                          [
                            0.3333333333333333,
                            "#9c179e"
                          ],
                          [
                            0.4444444444444444,
                            "#bd3786"
                          ],
                          [
                            0.5555555555555556,
                            "#d8576b"
                          ],
                          [
                            0.6666666666666666,
                            "#ed7953"
                          ],
                          [
                            0.7777777777777778,
                            "#fb9f3a"
                          ],
                          [
                            0.8888888888888888,
                            "#fdca26"
                          ],
                          [
                            1,
                            "#f0f921"
                          ]
                        ],
                        "type": "heatmap"
                      }
                    ],
                    "heatmapgl": [
                      {
                        "colorbar": {
                          "outlinewidth": 0,
                          "ticks": ""
                        },
                        "colorscale": [
                          [
                            0,
                            "#0d0887"
                          ],
                          [
                            0.1111111111111111,
                            "#46039f"
                          ],
                          [
                            0.2222222222222222,
                            "#7201a8"
                          ],
                          [
                            0.3333333333333333,
                            "#9c179e"
                          ],
                          [
                            0.4444444444444444,
                            "#bd3786"
                          ],
                          [
                            0.5555555555555556,
                            "#d8576b"
                          ],
                          [
                            0.6666666666666666,
                            "#ed7953"
                          ],
                          [
                            0.7777777777777778,
                            "#fb9f3a"
                          ],
                          [
                            0.8888888888888888,
                            "#fdca26"
                          ],
                          [
                            1,
                            "#f0f921"
                          ]
                        ],
                        "type": "heatmapgl"
                      }
                    ],
                    "histogram": [
                      {
                        "marker": {
                          "pattern": {
                            "fillmode": "overlay",
                            "size": 10,
                            "solidity": 0.2
                          }
                        },
                        "type": "histogram"
                      }
                    ],
                    "histogram2d": [
                      {
                        "colorbar": {
                          "outlinewidth": 0,
                          "ticks": ""
                        },
                        "colorscale": [
                          [
                            0,
                            "#0d0887"
                          ],
                          [
                            0.1111111111111111,
                            "#46039f"
                          ],
                          [
                            0.2222222222222222,
                            "#7201a8"
                          ],
                          [
                            0.3333333333333333,
                            "#9c179e"
                          ],
                          [
                            0.4444444444444444,
                            "#bd3786"
                          ],
                          [
                            0.5555555555555556,
                            "#d8576b"
                          ],
                          [
                            0.6666666666666666,
                            "#ed7953"
                          ],
                          [
                            0.7777777777777778,
                            "#fb9f3a"
                          ],
                          [
                            0.8888888888888888,
                            "#fdca26"
                          ],
                          [
                            1,
                            "#f0f921"
                          ]
                        ],
                        "type": "histogram2d"
                      }
                    ],
                    "histogram2dcontour": [
                      {
                        "colorbar": {
                          "outlinewidth": 0,
                          "ticks": ""
                        },
                        "colorscale": [
                          [
                            0,
                            "#0d0887"
                          ],
                          [
                            0.1111111111111111,
                            "#46039f"
                          ],
                          [
                            0.2222222222222222,
                            "#7201a8"
                          ],
                          [
                            0.3333333333333333,
                            "#9c179e"
                          ],
                          [
                            0.4444444444444444,
                            "#bd3786"
                          ],
                          [
                            0.5555555555555556,
                            "#d8576b"
                          ],
                          [
                            0.6666666666666666,
                            "#ed7953"
                          ],
                          [
                            0.7777777777777778,
                            "#fb9f3a"
                          ],
                          [
                            0.8888888888888888,
                            "#fdca26"
                          ],
                          [
                            1,
                            "#f0f921"
                          ]
                        ],
                        "type": "histogram2dcontour"
                      }
                    ],
                    "mesh3d": [
                      {
                        "colorbar": {
                          "outlinewidth": 0,
                          "ticks": ""
                        },
                        "type": "mesh3d"
                      }
                    ],
                    "parcoords": [
                      {
                        "line": {
                          "colorbar": {
                            "outlinewidth": 0,
                            "ticks": ""
                          }
                        },
                        "type": "parcoords"
                      }
                    ],
                    "pie": [
                      {
                        "automargin": true,
                        "type": "pie"
                      }
                    ],
                    "scatter": [
                      {
                        "fillpattern": {
                          "fillmode": "overlay",
                          "size": 10,
                          "solidity": 0.2
                        },
                        "type": "scatter"
                      }
                    ],
                    "scatter3d": [
                      {
                        "line": {
                          "colorbar": {
                            "outlinewidth": 0,
                            "ticks": ""
                          }
                        },
                        "marker": {
                          "colorbar": {
                            "outlinewidth": 0,
                            "ticks": ""
                          }
                        },
                        "type": "scatter3d"
                      }
                    ],
                    "scattercarpet": [
                      {
                        "marker": {
                          "colorbar": {
                            "outlinewidth": 0,
                            "ticks": ""
                          }
                        },
                        "type": "scattercarpet"
                      }
                    ],
                    "scattergeo": [
                      {
                        "marker": {
                          "colorbar": {
                            "outlinewidth": 0,
                            "ticks": ""
                          }
                        },
                        "type": "scattergeo"
                      }
                    ],
                    "scattergl": [
                      {
                        "marker": {
                          "colorbar": {
                            "outlinewidth": 0,
                            "ticks": ""
                          }
                        },
                        "type": "scattergl"
                      }
                    ],
                    "scattermapbox": [
                      {
                        "marker": {
                          "colorbar": {
                            "outlinewidth": 0,
                            "ticks": ""
                          }
                        },
                        "type": "scattermapbox"
                      }
                    ],
                    "scatterpolar": [
                      {
                        "marker": {
                          "colorbar": {
                            "outlinewidth": 0,
                            "ticks": ""
                          }
                        },
                        "type": "scatterpolar"
                      }
                    ],
                    "scatterpolargl": [
                      {
                        "marker": {
                          "colorbar": {
                            "outlinewidth": 0,
                            "ticks": ""
                          }
                        },
                        "type": "scatterpolargl"
                      }
                    ],
                    "scatterternary": [
                      {
                        "marker": {
                          "colorbar": {
                            "outlinewidth": 0,
                            "ticks": ""
                          }
                        },
                        "type": "scatterternary"
                      }
                    ],
                    "surface": [
                      {
                        "colorbar": {
                          "outlinewidth": 0,
                          "ticks": ""
                        },
                        "colorscale": [
                          [
                            0,
                            "#0d0887"
                          ],
                          [
                            0.1111111111111111,
                            "#46039f"
                          ],
                          [
                            0.2222222222222222,
                            "#7201a8"
                          ],
                          [
                            0.3333333333333333,
                            "#9c179e"
                          ],
                          [
                            0.4444444444444444,
                            "#bd3786"
                          ],
                          [
                            0.5555555555555556,
                            "#d8576b"
                          ],
                          [
                            0.6666666666666666,
                            "#ed7953"
                          ],
                          [
                            0.7777777777777778,
                            "#fb9f3a"
                          ],
                          [
                            0.8888888888888888,
                            "#fdca26"
                          ],
                          [
                            1,
                            "#f0f921"
                          ]
                        ],
                        "type": "surface"
                      }
                    ],
                    "table": [
                      {
                        "cells": {
                          "fill": {
                            "color": "#EBF0F8"
                          },
                          "line": {
                            "color": "white"
                          }
                        },
                        "header": {
                          "fill": {
                            "color": "#C8D4E3"
                          },
                          "line": {
                            "color": "white"
                          }
                        },
                        "type": "table"
                      }
                    ]
                  },
                  "layout": {
                    "annotationdefaults": {
                      "arrowcolor": "#2a3f5f",
                      "arrowhead": 0,
                      "arrowwidth": 1
                    },
                    "autotypenumbers": "strict",
                    "coloraxis": {
                      "colorbar": {
                        "outlinewidth": 0,
                        "ticks": ""
                      }
                    },
                    "colorscale": {
                      "diverging": [
                        [
                          0,
                          "#8e0152"
                        ],
                        [
                          0.1,
                          "#c51b7d"
                        ],
                        [
                          0.2,
                          "#de77ae"
                        ],
                        [
                          0.3,
                          "#f1b6da"
                        ],
                        [
                          0.4,
                          "#fde0ef"
                        ],
                        [
                          0.5,
                          "#f7f7f7"
                        ],
                        [
                          0.6,
                          "#e6f5d0"
                        ],
                        [
                          0.7,
                          "#b8e186"
                        ],
                        [
                          0.8,
                          "#7fbc41"
                        ],
                        [
                          0.9,
                          "#4d9221"
                        ],
                        [
                          1,
                          "#276419"
                        ]
                      ],
                      "sequential": [
                        [
                          0,
                          "#0d0887"
                        ],
                        [
                          0.1111111111111111,
                          "#46039f"
                        ],
                        [
                          0.2222222222222222,
                          "#7201a8"
                        ],
                        [
                          0.3333333333333333,
                          "#9c179e"
                        ],
                        [
                          0.4444444444444444,
                          "#bd3786"
                        ],
                        [
                          0.5555555555555556,
                          "#d8576b"
                        ],
                        [
                          0.6666666666666666,
                          "#ed7953"
                        ],
                        [
                          0.7777777777777778,
                          "#fb9f3a"
                        ],
                        [
                          0.8888888888888888,
                          "#fdca26"
                        ],
                        [
                          1,
                          "#f0f921"
                        ]
                      ],
                      "sequentialminus": [
                        [
                          0,
                          "#0d0887"
                        ],
                        [
                          0.1111111111111111,
                          "#46039f"
                        ],
                        [
                          0.2222222222222222,
                          "#7201a8"
                        ],
                        [
                          0.3333333333333333,
                          "#9c179e"
                        ],
                        [
                          0.4444444444444444,
                          "#bd3786"
                        ],
                        [
                          0.5555555555555556,
                          "#d8576b"
                        ],
                        [
                          0.6666666666666666,
                          "#ed7953"
                        ],
                        [
                          0.7777777777777778,
                          "#fb9f3a"
                        ],
                        [
                          0.8888888888888888,
                          "#fdca26"
                        ],
                        [
                          1,
                          "#f0f921"
                        ]
                      ]
                    },
                    "colorway": [
                      "#636efa",
                      "#EF553B",
                      "#00cc96",
                      "#ab63fa",
                      "#FFA15A",
                      "#19d3f3",
                      "#FF6692",
                      "#B6E880",
                      "#FF97FF",
                      "#FECB52"
                    ],
                    "font": {
                      "color": "#2a3f5f"
                    },
                    "geo": {
                      "bgcolor": "white",
                      "lakecolor": "white",
                      "landcolor": "#E5ECF6",
                      "showlakes": true,
                      "showland": true,
                      "subunitcolor": "white"
                    },
                    "hoverlabel": {
                      "align": "left"
                    },
                    "hovermode": "closest",
                    "mapbox": {
                      "style": "light"
                    },
                    "paper_bgcolor": "white",
                    "plot_bgcolor": "#E5ECF6",
                    "polar": {
                      "angularaxis": {
                        "gridcolor": "white",
                        "linecolor": "white",
                        "ticks": ""
                      },
                      "bgcolor": "#E5ECF6",
                      "radialaxis": {
                        "gridcolor": "white",
                        "linecolor": "white",
                        "ticks": ""
                      }
                    },
                    "scene": {
                      "xaxis": {
                        "backgroundcolor": "#E5ECF6",
                        "gridcolor": "white",
                        "gridwidth": 2,
                        "linecolor": "white",
                        "showbackground": true,
                        "ticks": "",
                        "zerolinecolor": "white"
                      },
                      "yaxis": {
                        "backgroundcolor": "#E5ECF6",
                        "gridcolor": "white",
                        "gridwidth": 2,
                        "linecolor": "white",
                        "showbackground": true,
                        "ticks": "",
                        "zerolinecolor": "white"
                      },
                      "zaxis": {
                        "backgroundcolor": "#E5ECF6",
                        "gridcolor": "white",
                        "gridwidth": 2,
                        "linecolor": "white",
                        "showbackground": true,
                        "ticks": "",
                        "zerolinecolor": "white"
                      }
                    },
                    "shapedefaults": {
                      "line": {
                        "color": "#2a3f5f"
                      }
                    },
                    "ternary": {
                      "aaxis": {
                        "gridcolor": "white",
                        "linecolor": "white",
                        "ticks": ""
                      },
                      "baxis": {
                        "gridcolor": "white",
                        "linecolor": "white",
                        "ticks": ""
                      },
                      "bgcolor": "#E5ECF6",
                      "caxis": {
                        "gridcolor": "white",
                        "linecolor": "white",
                        "ticks": ""
                      }
                    },
                    "title": {
                      "x": 0.05
                    },
                    "xaxis": {
                      "automargin": true,
                      "gridcolor": "white",
                      "linecolor": "white",
                      "ticks": "",
                      "title": {
                        "standoff": 15
                      },
                      "zerolinecolor": "white",
                      "zerolinewidth": 2
                    },
                    "yaxis": {
                      "automargin": true,
                      "gridcolor": "white",
                      "linecolor": "white",
                      "ticks": "",
                      "title": {
                        "standoff": 15
                      },
                      "zerolinecolor": "white",
                      "zerolinewidth": 2
                    }
                  }
                },
                "xaxis": {
                  "anchor": "y",
                  "domain": [
                    0,
                    1
                  ],
                  "title": {
                    "text": "Nome_Departamento"
                  }
                },
                "yaxis": {
                  "anchor": "x",
                  "domain": [
                    0,
                    1
                  ],
                  "title": {
                    "text": "Preço_com_frete"
                  }
                }
              }
            }
          },
          "metadata": {},
          "output_type": "display_data"
        }
      ],
      "source": [
        "px.bar(agg_media_preco_departamento, x = 'Nome_Departamento', y = 'Preço_com_frete')"
      ]
    }
  ],
  "metadata": {
    "colab": {
      "collapsed_sections": [
        "yhELkyo7cjYV",
        "ohHm768-pR5f",
        "F6vX-2mFoEqz",
        "_OqgaaErpJ0d",
        "vthxcJNnqy6_",
        "nFkwuDj43Wgx",
        "5LJdRu-Q-4jS",
        "dWqgfPpQ_4wU",
        "oWNG1oajLnkd",
        "xyfktAUZCE2-",
        "aOXl7RnoDoPr",
        "JXX3BjQwIvEw",
        "RR-6DAzEI1P8",
        "yZVhWQmtL4h7",
        "pPvzYIzeNPOs",
        "ETbJnNHeN0LM",
        "1WkQaLhaOxJv"
      ],
      "provenance": []
    },
    "kernelspec": {
      "display_name": "Python 3",
      "name": "python3"
    },
    "language_info": {
      "codemirror_mode": {
        "name": "ipython",
        "version": 3
      },
      "file_extension": ".py",
      "mimetype": "text/x-python",
      "name": "python",
      "nbconvert_exporter": "python",
      "pygments_lexer": "ipython3",
      "version": "3.11.2"
    }
  },
  "nbformat": 4,
  "nbformat_minor": 0
}
